{
 "cells": [
  {
   "cell_type": "code",
   "execution_count": 1,
   "id": "f406646a-1202-48d3-a119-28af19f77644",
   "metadata": {},
   "outputs": [
    {
     "name": "stdout",
     "output_type": "stream",
     "text": [
      "ABCD\n"
     ]
    }
   ],
   "source": [
    "print(\"ABCD\")"
   ]
  },
  {
   "cell_type": "code",
   "execution_count": 6,
   "id": "e5f07a20-7699-4a06-8ebc-0d18e6a1dabe",
   "metadata": {},
   "outputs": [],
   "source": [
    "#single line comment"
   ]
  },
  {
   "cell_type": "code",
   "execution_count": 3,
   "id": "2d162fb5-8520-449b-912c-9c62009dbb3b",
   "metadata": {},
   "outputs": [
    {
     "name": "stdout",
     "output_type": "stream",
     "text": [
      "fd\n"
     ]
    },
    {
     "data": {
      "text/plain": [
       "'ereef\\neferef'"
      ]
     },
     "execution_count": 3,
     "metadata": {},
     "output_type": "execute_result"
    }
   ],
   "source": [
    "print(\"fd\")\n",
    "\"\"\"ereef\n",
    "eferef\"\"\""
   ]
  },
  {
   "cell_type": "code",
   "execution_count": 15,
   "id": "bc08e346-d6e9-4f08-ac4f-1601e7f6da5c",
   "metadata": {},
   "outputs": [
    {
     "name": "stdout",
     "output_type": "stream",
     "text": [
      "double quotes \"like this\" in a string\n"
     ]
    }
   ],
   "source": [
    "print(\"double quotes \\\"like this\\\" in a string\")"
   ]
  },
  {
   "cell_type": "code",
   "execution_count": 16,
   "id": "ef152b53-1dcf-4fc3-8162-7aa3cabf1f0a",
   "metadata": {},
   "outputs": [
    {
     "name": "stdout",
     "output_type": "stream",
     "text": [
      "single quotes 'like this' in a string\n"
     ]
    }
   ],
   "source": [
    "print(\"single quotes \\'like this\\' in a string\")"
   ]
  },
  {
   "cell_type": "code",
   "execution_count": 17,
   "id": "442a7606-16b0-46e8-a431-002d7ddd79ef",
   "metadata": {},
   "outputs": [
    {
     "name": "stdout",
     "output_type": "stream",
     "text": [
      "This is a backslash: \\\n"
     ]
    }
   ],
   "source": [
    "print(\"This is a backslash: \\\\\")"
   ]
  },
  {
   "cell_type": "code",
   "execution_count": 23,
   "id": "b4d89ded-52cf-4e8f-b13c-a70a6dfd56c3",
   "metadata": {},
   "outputs": [
    {
     "name": "stdout",
     "output_type": "stream",
     "text": [
      "a longggggg stringggggggggggggg\n"
     ]
    }
   ],
   "source": [
    "print(\"a longggggg \\\n",
    "stringggggggggggggg\")"
   ]
  },
  {
   "cell_type": "code",
   "execution_count": 32,
   "id": "38fd459d-e1b7-4c84-a20d-b575bef70670",
   "metadata": {},
   "outputs": [
    {
     "name": "stdout",
     "output_type": "stream",
     "text": [
      " triple quote strings are used to create :\n",
      "    multi line strings\n",
      "\n",
      "\n"
     ]
    }
   ],
   "source": [
    "print(\"\"\" triple quote strings are used to create :\n",
    "    multi line strings\n",
    "\"\"\")"
   ]
  },
  {
   "cell_type": "code",
   "execution_count": 34,
   "id": "cf9a1a9a-d128-426e-bb49-a8e453d0c32b",
   "metadata": {},
   "outputs": [
    {
     "name": "stdout",
     "output_type": "stream",
     "text": [
      " display \"hi\" \n"
     ]
    }
   ],
   "source": [
    "string=''' display \"hi\" '''\n",
    "print(string)"
   ]
  },
  {
   "cell_type": "code",
   "execution_count": null,
   "id": "0dc1e23f-be1c-4760-819f-b23d53633b25",
   "metadata": {},
   "outputs": [],
   "source": []
  }
 ],
 "metadata": {
  "kernelspec": {
   "display_name": "Python 3 (ipykernel)",
   "language": "python",
   "name": "python3"
  },
  "language_info": {
   "codemirror_mode": {
    "name": "ipython",
    "version": 3
   },
   "file_extension": ".py",
   "mimetype": "text/x-python",
   "name": "python",
   "nbconvert_exporter": "python",
   "pygments_lexer": "ipython3",
   "version": "3.9.17"
  }
 },
 "nbformat": 4,
 "nbformat_minor": 5
}
