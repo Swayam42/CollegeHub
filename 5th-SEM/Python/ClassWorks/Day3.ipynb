{
 "cells": [
  {
   "cell_type": "markdown",
   "id": "1b0f3f30",
   "metadata": {},
   "source": [
    "The match case statement introduced in python 3.10 "
   ]
  }
 ],
 "metadata": {
  "language_info": {
   "name": "python"
  }
 },
 "nbformat": 4,
 "nbformat_minor": 5
}
