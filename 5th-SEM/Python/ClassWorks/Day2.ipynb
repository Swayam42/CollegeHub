{
 "cells": [
  {
   "cell_type": "code",
   "execution_count": 25,
   "id": "57a1f11a-dea1-4d32-b49f-cd0a8c8854e8",
   "metadata": {},
   "outputs": [
    {
     "data": {
      "text/plain": [
       "0.6000000000000001"
      ]
     },
     "execution_count": 25,
     "metadata": {},
     "output_type": "execute_result"
    }
   ],
   "source": [
    "0.2+0.4"
   ]
  },
  {
   "cell_type": "code",
   "execution_count": 26,
   "id": "e2ca7d54-6a57-4eed-a184-b66e90bad31f",
   "metadata": {},
   "outputs": [
    {
     "data": {
      "text/plain": [
       "0.30000000000000004"
      ]
     },
     "execution_count": 26,
     "metadata": {},
     "output_type": "execute_result"
    }
   ],
   "source": [
    "0.1+0.2"
   ]
  },
  {
   "cell_type": "code",
   "execution_count": 27,
   "id": "a257cb7d-dd51-47c5-b2c6-93ce79f2e6e0",
   "metadata": {},
   "outputs": [
    {
     "name": "stdout",
     "output_type": "stream",
     "text": [
      "0.3\n"
     ]
    }
   ],
   "source": [
    "from decimal import Decimal\n",
    "print(Decimal('0.1')+Decimal('0.2'))"
   ]
  },
  {
   "cell_type": "code",
   "execution_count": 28,
   "id": "5482e4b0-9176-4807-aebf-1e05d460a5b6",
   "metadata": {},
   "outputs": [
    {
     "name": "stdout",
     "output_type": "stream",
     "text": [
      "For Year 1: 1050.00/-\n",
      "For Year 2: 1102.50/-\n",
      "For Year 3: 1157.63/-\n",
      "For Year 4: 1215.51/-\n",
      "For Year 5: 1276.28/-\n",
      "For Year 6: 1340.10/-\n",
      "For Year 7: 1407.10/-\n",
      "For Year 8: 1477.46/-\n",
      "For Year 9: 1551.33/-\n",
      "For Year 10: 1628.89/-\n"
     ]
    }
   ],
   "source": [
    "import math\n",
    "p=1000\n",
    "r=.05\n",
    "n=10\n",
    "for i in range(1,11):\n",
    "    a=p*(math.pow((1+r),i))\n",
    "    print(f\"For Year {i}: {a:.2f}/-\")"
   ]
  },
  {
   "cell_type": "code",
   "execution_count": 5,
   "id": "fd05c033-61e7-493e-b18e-c901fe477f90",
   "metadata": {},
   "outputs": [
    {
     "name": "stdin",
     "output_type": "stream",
     "text": [
      "Enter Test Results(1=pass,2=pass) for student 1:  1\n",
      "Enter Test Results(1=pass,2=pass) for student 2:  1\n",
      "Enter Test Results(1=pass,2=pass) for student 3:  2\n",
      "Enter Test Results(1=pass,2=pass) for student 4:  2\n",
      "Enter Test Results(1=pass,2=pass) for student 5:  1\n",
      "Enter Test Results(1=pass,2=pass) for student 6:  2\n",
      "Enter Test Results(1=pass,2=pass) for student 7:  1\n",
      "Enter Test Results(1=pass,2=pass) for student 8:  1\n",
      "Enter Test Results(1=pass,2=pass) for student 9:  1\n",
      "Enter Test Results(1=pass,2=pass) for student 10:  1\n"
     ]
    },
    {
     "name": "stdout",
     "output_type": "stream",
     "text": [
      "No. of Students passed: 7\n",
      "No. of Students failed: 3\n"
     ]
    }
   ],
   "source": [
    "c1=0\n",
    "c2=0\n",
    "for i in range(1,11):\n",
    "    test=int(input(f\"Enter Test Results(1=pass,2=fail) for student {i}: \"))\n",
    "    if(test==1):\n",
    "        c1+=1\n",
    "    elif(test==2):\n",
    "        c2+=1\n",
    "    else:\n",
    "        print(\"Invalid Input\")\n",
    "print(f\"No. of Students passed: {c1}\\nNo. of Students failed: {c2}\")\n",
    "if c1>8:\n",
    "    print(\"Bonus To Instructor\")\n",
    "        \n",
    "    "
   ]
  },
  {
   "cell_type": "markdown",
   "id": "4592ef70-8b09-4cdd-a09e-f3d354981a44",
   "metadata": {},
   "source": [
    "### Intro To Data Science : Mean, Median, Mode\n",
    "```\n",
    "mean: the average value in a set of values  \n",
    "median: the middle value when all the values are in sorted order  \n",
    "mode: most frequently occurring value\n",
    "```"
   ]
  },
  {
   "cell_type": "code",
   "execution_count": 13,
   "id": "a9defa37-b831-483e-a22f-aa9cf295fb9a",
   "metadata": {},
   "outputs": [
    {
     "name": "stdout",
     "output_type": "stream",
     "text": [
      "Grades: [10, 20, 30, 40, 50, 30, 10, 80, 10, 100]\n",
      "Mean: 38\n",
      "Median: 30.0\n",
      "Mode: 10\n"
     ]
    }
   ],
   "source": [
    "import statistics as st\n",
    "grades=[10,20,30,40,50,30,10,80,10,100]\n",
    "print(\"Grades:\",grades)\n",
    "print(\"Mean:\",st.mean(grades))\n",
    "print(\"Median:\",st.median(grades))\n",
    "print(\"Mode:\",st.mode(grades))"
   ]
  },
  {
   "cell_type": "code",
   "execution_count": 23,
   "id": "5c8394e0-d949-4b93-a38a-46eecce4d57c",
   "metadata": {},
   "outputs": [
    {
     "name": "stdout",
     "output_type": "stream",
     "text": [
      "[-34, 2, 12, 12, 34, 54, 74]\n"
     ]
    }
   ],
   "source": [
    "# sort(): this is the method of list object and sorts the list in place\n",
    "#it directly modifies the original list and does not return a newlist and returns None\n",
    "मेरा_list=[2,34,12,54,74,12,-34]\n",
    "मेरा_list.sort()\n",
    "print(मेरा_list)"
   ]
  },
  {
   "cell_type": "code",
   "execution_count": 21,
   "id": "556c92de-a13a-4e68-a286-b0ea81166dc7",
   "metadata": {},
   "outputs": [
    {
     "name": "stdout",
     "output_type": "stream",
     "text": [
      "[-34, 2, 12, 12, 34, 54, 74]\n"
     ]
    }
   ],
   "source": [
    "#sorted(): this is a built-in method that takes any iterable: like a (list,tuple,string \n",
    "#or set) as input and returns a new sorted list . The original iterable remains unchanged.\n",
    "मेरा_list=[2,34,12,54,74,12,-34]\n",
    "sorted_list=sorted(मेरा_list)\n",
    "print(sorted_list)"
   ]
  },
  {
   "cell_type": "code",
   "execution_count": 24,
   "id": "4527a44f-4219-48b8-af7e-a522b5a74af9",
   "metadata": {},
   "outputs": [
    {
     "name": "stdin",
     "output_type": "stream",
     "text": [
      "Input Grade, -1 to end 45\n",
      "Input Grade,-1 to end 34\n",
      "Input Grade,-1 to end 23\n",
      "Input Grade,-1 to end 12\n",
      "Input Grade,-1 to end 23\n",
      "Input Grade,-1 to end -1\n"
     ]
    },
    {
     "name": "stdout",
     "output_type": "stream",
     "text": [
      "Class Average is 27.40\n"
     ]
    }
   ],
   "source": [
    "total=0\n",
    "sentinel=-1\n",
    "grade_counter=0\n",
    "grade=int(input(\"Input Grade, -1 to end\"))\n",
    "while grade!=sentinel:\n",
    "    total+=grade\n",
    "    grade_counter+=1\n",
    "    grade=int(input(\"Input Grade,-1 to end\"))\n",
    "if grade_counter!=0:\n",
    "    avg=total/grade_counter\n",
    "    print(f\"Class Average is {avg:.2f}\")\n",
    "    "
   ]
  },
  {
   "cell_type": "code",
   "execution_count": null,
   "id": "079175d6-7705-4695-8175-f5b0fab90b1f",
   "metadata": {},
   "outputs": [],
   "source": []
  }
 ],
 "metadata": {
  "kernelspec": {
   "display_name": "Python 3 (ipykernel)",
   "language": "python",
   "name": "python3"
  },
  "language_info": {
   "codemirror_mode": {
    "name": "ipython",
    "version": 3
   },
   "file_extension": ".py",
   "mimetype": "text/x-python",
   "name": "python",
   "nbconvert_exporter": "python",
   "pygments_lexer": "ipython3",
   "version": "3.9.17"
  }
 },
 "nbformat": 4,
 "nbformat_minor": 5
}
