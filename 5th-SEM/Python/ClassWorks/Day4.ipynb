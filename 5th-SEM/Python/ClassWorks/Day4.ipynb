{
 "cells": [
  {
   "cell_type": "code",
   "execution_count": 6,
   "id": "32e322c2",
   "metadata": {},
   "outputs": [
    {
     "name": "stdout",
     "output_type": "stream",
     "text": [
      "Occurence of 1: 999961\n",
      "\n",
      "Occurence of 2: 999802\n",
      "\n",
      "Occurence of 3: 998937\n",
      "\n",
      "Occurence of 4: 1001871\n",
      "\n",
      "Occurence of 5: 998719\n",
      "\n",
      "Occurence of 6: 1000710\n",
      "\n"
     ]
    }
   ],
   "source": [
    "import random\n",
    "t=6000000\n",
    "c1=c2=c3=c4=c5=c6=0\n",
    "while t>0:\n",
    "    r=random.randint(1,6)\n",
    "\n",
    "    if(r==1):\n",
    "        c1+=1\n",
    "    elif(r==2):\n",
    "        c2+=1\n",
    "    elif(r==3):\n",
    "        c3+=1\n",
    "    elif(r==4):\n",
    "        c4+=1\n",
    "    elif(r==5):\n",
    "        c5+=1\n",
    "    else:\n",
    "        c6+=1\n",
    "    t-=1\n",
    "print(f\"Occurence of 1: {c1}\\n\")\n",
    "print(f\"Occurence of 2: {c2}\\n\")\n",
    "print(f\"Occurence of 3: {c3}\\n\")\n",
    "print(f\"Occurence of 4: {c4}\\n\")\n",
    "print(f\"Occurence of 5: {c5}\\n\")\n",
    "print(f\"Occurence of 6: {c6}\\n\")"
   ]
  },
  {
   "cell_type": "code",
   "execution_count": 7,
   "id": "5773151f",
   "metadata": {},
   "outputs": [
    {
     "name": "stdout",
     "output_type": "stream",
     "text": [
      "15\n"
     ]
    },
    {
     "ename": "TypeError",
     "evalue": "'int' object is not callable",
     "output_type": "error",
     "traceback": [
      "\u001b[0;31m---------------------------------------------------------------------------\u001b[0m",
      "\u001b[0;31mTypeError\u001b[0m                                 Traceback (most recent call last)",
      "Cell \u001b[0;32mIn[7], line 3\u001b[0m\n\u001b[1;32m      1\u001b[0m \u001b[38;5;28msum\u001b[39m\u001b[38;5;241m=\u001b[39m\u001b[38;5;241m10\u001b[39m\u001b[38;5;241m+\u001b[39m\u001b[38;5;241m5\u001b[39m\n\u001b[1;32m      2\u001b[0m \u001b[38;5;28mprint\u001b[39m(\u001b[38;5;28msum\u001b[39m)\n\u001b[0;32m----> 3\u001b[0m \u001b[38;5;28;43msum\u001b[39;49m\u001b[43m(\u001b[49m\u001b[43m[\u001b[49m\u001b[38;5;241;43m10\u001b[39;49m\u001b[43m,\u001b[49m\u001b[38;5;241;43m5\u001b[39;49m\u001b[43m]\u001b[49m\u001b[43m)\u001b[49m\n",
      "\u001b[0;31mTypeError\u001b[0m: 'int' object is not callable"
     ]
    }
   ],
   "source": [
    "sum=10+5\n",
    "print(sum)\n",
    "sum([10,5])"
   ]
  },
  {
   "cell_type": "code",
   "execution_count": 13,
   "id": "b34ece8a",
   "metadata": {},
   "outputs": [
    {
     "name": "stdout",
     "output_type": "stream",
     "text": [
      "11\n",
      "10\n"
     ]
    }
   ],
   "source": [
    "from math import ceil, floor\n",
    "print(ceil(10.3))\n",
    "print(floor(10.3))\n"
   ]
  },
  {
   "cell_type": "code",
   "execution_count": null,
   "id": "f1e77453",
   "metadata": {},
   "outputs": [
    {
     "name": "stdout",
     "output_type": "stream",
     "text": [
      "hello\n",
      "e=2.718281828459045\n"
     ]
    }
   ],
   "source": [
    "# Avoid Wildcard imports\n",
    "e='hello'\n",
    "from math import *\n",
    "print(f\"e={e}\")"
   ]
  },
  {
   "cell_type": "code",
   "execution_count": 18,
   "id": "7dfbc536",
   "metadata": {},
   "outputs": [
    {
     "name": "stdout",
     "output_type": "stream",
     "text": [
      "Mean: 48.6\n"
     ]
    }
   ],
   "source": [
    "#Binding names for modules and module identifiers\n",
    "import statistics as stats \n",
    "grades=[43,67,23,98,12]\n",
    "m=stats.mean(grades)\n",
    "print(f\"Mean: {m}\")"
   ]
  },
  {
   "cell_type": "code",
   "execution_count": 26,
   "id": "41d32a0f",
   "metadata": {},
   "outputs": [
    {
     "name": "stdout",
     "output_type": "stream",
     "text": [
      "id(num): 139930297696592\n",
      "cube(4): 64\n",
      "id(x=4)=139930297696592\n"
     ]
    }
   ],
   "source": [
    "#Passing an object to a function\n",
    "def cube(num):\n",
    "    print('id(num):',id(num))\n",
    "    return num **3\n",
    "print(f\"cube(4): {cube(4)}\")\n",
    "x=4\n",
    "print(f\"id(x={x})={id(x)}\")"
   ]
  },
  {
   "cell_type": "code",
   "execution_count": 29,
   "id": "7616e04a",
   "metadata": {},
   "outputs": [
    {
     "name": "stdout",
     "output_type": "stream",
     "text": [
      "number is x: True\n",
      "cube(4): 64\n",
      "id(x=4)=139930297696592\n"
     ]
    }
   ],
   "source": [
    "x=4\n",
    "def cube(num):\n",
    "    print('number is x:',num is x)\n",
    "    return num **3\n",
    "print(f\"cube(4): {cube(4)}\")\n",
    "print(f\"id(x={x})={id(x)}\")"
   ]
  },
  {
   "cell_type": "code",
   "execution_count": 32,
   "id": "79017257",
   "metadata": {},
   "outputs": [
    {
     "name": "stdout",
     "output_type": "stream",
     "text": [
      "id of num before modifying: 139930297696688\n",
      "id of num after modifying: 139929757460848\n",
      "cube(7): 343\n"
     ]
    }
   ],
   "source": [
    "#Immutable Obj As Arguments\n",
    "def cube(num):\n",
    "    print('id of num before modifying:',id(num))\n",
    "    num **=3\n",
    "    print('id of num after modifying:',id(num))\n",
    "    return num\n",
    "x=7\n",
    "print(f\"cube(7): {cube(x)}\")\n"
   ]
  },
  {
   "cell_type": "code",
   "execution_count": null,
   "id": "8fe031df",
   "metadata": {},
   "outputs": [
    {
     "ename": "SyntaxError",
     "evalue": "expected ':' (9844337.py, line 20)",
     "output_type": "error",
     "traceback": [
      "\u001b[0;36m  Cell \u001b[0;32mIn[33], line 20\u001b[0;36m\u001b[0m\n\u001b[0;31m    else\u001b[0m\n\u001b[0m        ^\u001b[0m\n\u001b[0;31mSyntaxError\u001b[0m\u001b[0;31m:\u001b[0m expected ':'\n"
     ]
    }
   ],
   "source": [
    "import random\n",
    "def roll_die():\n",
    "    d1=random.randrange(1,7)\n",
    "    d2=random.randrange(1,7)\n",
    "    return(d1,d2)\n",
    "\n",
    "def display_dice(dice):\n",
    "    d1, d2=dice \n",
    "    print(f\"Player rolled {d1} + {d2} = {sum(dice)}\")\n",
    "\n",
    "die_values=roll_die()\n",
    "display_dice(die_values)\n",
    "\n",
    "sum_of_dice=sum(die_values)\n",
    "\n",
    "if(sum_of_dice in (7,11)):\n",
    "    game_status='WON'\n",
    "elif(sum_of_dice in (2,3,12)):\n",
    "    game_status='LOST'\n",
    "else:\n",
    "    game_status='CONTINUE'\n",
    "    points=sum_of_dice\n",
    "    print(f\"Points = {points}\")\n",
    "\n",
    "while game_status == 'CONTINUE':\n",
    "    die_values ==roll_die()\n",
    "    display_dice(die_values)\n",
    "    \n",
    "\n"
   ]
  },
  {
   "cell_type": "code",
   "execution_count": null,
   "id": "80d81918",
   "metadata": {},
   "outputs": [],
   "source": []
  }
 ],
 "metadata": {
  "kernelspec": {
   "display_name": "Python 3",
   "language": "python",
   "name": "python3"
  },
  "language_info": {
   "codemirror_mode": {
    "name": "ipython",
    "version": 3
   },
   "file_extension": ".py",
   "mimetype": "text/x-python",
   "name": "python",
   "nbconvert_exporter": "python",
   "pygments_lexer": "ipython3",
   "version": "3.10.12"
  }
 },
 "nbformat": 4,
 "nbformat_minor": 5
}
