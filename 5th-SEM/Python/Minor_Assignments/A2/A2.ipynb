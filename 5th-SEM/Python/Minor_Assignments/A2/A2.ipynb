{
 "cells": [
  {
   "cell_type": "markdown",
   "id": "0caa5505",
   "metadata": {},
   "source": [
    "## Python Minor Assignment-2\n",
    "### CONTROL STATEMENTS AND PROGRAM DEVELOPMENT\n"
   ]
  },
  {
   "cell_type": "markdown",
   "id": "0afd2f95",
   "metadata": {},
   "source": [
    "1. Write a program such that Python will ask you if it is raining or not. If your answer is ”yes”, Python\n",
    "will say ”Carry an umbrella”. If you type anything else, Python will say ”Bye”."
   ]
  },
  {
   "cell_type": "code",
   "execution_count": 1,
   "id": "e4cbd1c3",
   "metadata": {},
   "outputs": [
    {
     "name": "stdin",
     "output_type": "stream",
     "text": [
      "Is it Raining ? no\n"
     ]
    },
    {
     "name": "stdout",
     "output_type": "stream",
     "text": [
      "Bye\n"
     ]
    }
   ],
   "source": [
    "user=input(\"Is it Raining ?\")\n",
    "if user.lower()==\"yes\":\n",
    "    print(\"Carry an umbrella\")\n",
    "else:\n",
    "    print(\"Bye\")\n"
   ]
  },
  {
   "cell_type": "markdown",
   "id": "ec540fa4",
   "metadata": {},
   "source": [
    "2. Write a program such that Python will ask you if it is raining or not. If your answer is ”yes”, Python\n",
    "will say ”Carry an umbrella”. If you say ”no”, Python will say ”No need to carry an umbrella”. If\n",
    "you type anything else, Python will say ”Bye”."
   ]
  },
  {
   "cell_type": "code",
   "execution_count": 2,
   "id": "e46e4dd8",
   "metadata": {},
   "outputs": [
    {
     "name": "stdin",
     "output_type": "stream",
     "text": [
      "Is it Raining ? yes\n"
     ]
    },
    {
     "name": "stdout",
     "output_type": "stream",
     "text": [
      "Carry an umbrella\n"
     ]
    }
   ],
   "source": [
    "user=input(\"Is it Raining ?\")\n",
    "if user==\"yes\":\n",
    "    print(\"Carry an umbrella\")\n",
    "elif user==\"no\":\n",
    "    print(\"No need to carry an umbrella\")\n",
    "else:\n",
    "    print(\"Bye\")\n"
   ]
  },
  {
   "cell_type": "markdown",
   "id": "bce092a8",
   "metadata": {},
   "source": [
    "3. Write a Python program to calculate a student’s letter grade based on their numeric score using the fol-\n",
    "lowing scale: A (90–100), B (80–89), C (70–79), D (60–69), and F (below 60). Additionally, provide\n",
    "a comment for each grade: ”Excellent” for A, ”Good” for B, ”Average” for C, ”Needs Improvement”\n",
    "for D, and ”Failing” for F."
   ]
  },
  {
   "cell_type": "code",
   "execution_count": 3,
   "id": "5cef6801",
   "metadata": {},
   "outputs": [
    {
     "name": "stdout",
     "output_type": "stream",
     "text": [
      "D:Needs Improvement\n"
     ]
    }
   ],
   "source": [
    "mark=int(input(\"Input Your Marks: \"))\n",
    "assert mark>=0 and mark<=100\n",
    "if mark>=90 and mark<=100:\n",
    "    print(\"A:Excellent\")\n",
    "elif mark>=80 and mark<=89:\n",
    "    print(\"B:Good\")\n",
    "elif mark>=70 and mark<=79:\n",
    "    print(\"C:Average\")\n",
    "elif mark>=60 and mark<=69:\n",
    "    print(\"D:Needs Improvement\")\n",
    "elif mark<60:\n",
    "    print(\"F:Failing\")\n"
   ]
  },
  {
   "cell_type": "markdown",
   "id": "0f408b9f",
   "metadata": {},
   "source": [
    "Write a program that reads the lengths of the three sides of a triangle from the user. Then display a\n",
    "message that states the triangles type."
   ]
  },
  {
   "cell_type": "code",
   "execution_count": 4,
   "id": "c0bb2959",
   "metadata": {},
   "outputs": [
    {
     "name": "stdout",
     "output_type": "stream",
     "text": [
      "Scalene Triangle\n"
     ]
    }
   ],
   "source": [
    "s1=int(input(\"Input Side 1: \"))\n",
    "s2=int(input(\"Input Side 2: \"))\n",
    "s3=int(input(\"Input Side 3: \"))\n",
    "if s1+s2>s3 and s2+s3>s1 and s1+s3>s2:\n",
    "    if(s1==s2 or s1==s3 or s2==s3):\n",
    "        print(\"Isosceles Triangle\")\n",
    "    elif(s1==s2==s3):\n",
    "        print(\"Equilateral Triangle\")\n",
    "    else:\n",
    "        print(\"Scalene Triangle\")\n",
    "else:\n",
    "    print(\"Invalid Triangle\")"
   ]
  },
  {
   "cell_type": "markdown",
   "id": "9d72f5c3",
   "metadata": {},
   "source": [
    "4. Write a program that takes an integer input from the user and tells the user whether the number is\n",
    "even or odd."
   ]
  },
  {
   "cell_type": "code",
   "execution_count": 5,
   "id": "e8a3ef29",
   "metadata": {},
   "outputs": [
    {
     "name": "stdout",
     "output_type": "stream",
     "text": [
      "Odd\n"
     ]
    }
   ],
   "source": [
    "n=int(input(\"Enter a Number: \"))\n",
    "if(n%2==0):\n",
    "    print(\"Even\")\n",
    "else:\n",
    "    print(\"Odd\")"
   ]
  },
  {
   "cell_type": "markdown",
   "id": "5128a8ce",
   "metadata": {},
   "source": [
    "5. Write a program that takes a year as input and determines whether it is a leap year or not"
   ]
  },
  {
   "cell_type": "code",
   "execution_count": 8,
   "id": "56d217b1",
   "metadata": {},
   "outputs": [
    {
     "name": "stdout",
     "output_type": "stream",
     "text": [
      "2004 : Leap Year\n"
     ]
    }
   ],
   "source": [
    "year=int(input(\"Input a Year \"))\n",
    "if year%4==0 and year%100!=0 or year%400==0:\n",
    "    print(f\"{year} : Leap Year\")\n",
    "else:\n",
    "    print(f\"{year} :Not a Leap Year\")"
   ]
  },
  {
   "cell_type": "markdown",
   "id": "c2b19d1d",
   "metadata": {},
   "source": [
    "6. Write a program that takes an integer input from the user and prints whether it is prime or not."
   ]
  },
  {
   "cell_type": "code",
   "execution_count": null,
   "id": "1b59dbcf",
   "metadata": {},
   "outputs": [],
   "source": [
    "num=int(input(\"Enter a number: \"))\n",
    "assert num>=0\n",
    "fact=0\n",
    "for i in range(1,num+1):\n",
    "    if(num%i==0):\n",
    "        fact+=1\n",
    "if(fact==2):\n",
    "    print(f\"{num}: Prime Number\")\n",
    "else:\n",
    "    print(f\"{num}: Not Prime Number\")"
   ]
  },
  {
   "cell_type": "markdown",
   "id": "3bc32847",
   "metadata": {},
   "source": [
    "7. In line with the previous question, write a program to compute the sum of all prime numbers below a\n",
    "user input number, e.g., Sum of all prime numbers less than 20 is 77."
   ]
  },
  {
   "cell_type": "code",
   "execution_count": 20,
   "id": "c706c1d2",
   "metadata": {},
   "outputs": [
    {
     "name": "stdout",
     "output_type": "stream",
     "text": [
      "Sum of prime no.s < 20 = 77\n"
     ]
    }
   ],
   "source": [
    "num = int(input(\"Enter a number: \"))\n",
    "assert num >= 0\n",
    "fact = 0\n",
    "sum = 0\n",
    "for i in range(2,num):\n",
    "    fact = 0\n",
    "    for j in range(1,i+1):\n",
    "        if (i%j==0):\n",
    "            fact+= 1\n",
    "    if (fact==2):\n",
    "        sum += i\n",
    "        \n",
    "\n",
    "print(f\"Sum of prime no.s < {num} = {sum}\")"
   ]
  },
  {
   "cell_type": "markdown",
   "id": "502f28fe",
   "metadata": {},
   "source": [
    "8. Write a program that takes an integer input from the user. Use a while loop to continuously prompt\n",
    "for input until the user enters a positive number. If the final number is even, multiply it by 2 and if it\n",
    "is odd, square it. Display the results at the end."
   ]
  },
  {
   "cell_type": "code",
   "execution_count": 7,
   "id": "a8da5e4a",
   "metadata": {},
   "outputs": [
    {
     "name": "stdout",
     "output_type": "stream",
     "text": [
      "68\n"
     ]
    }
   ],
   "source": [
    "n=int(input(\"Input an Integer: \"))\n",
    "while n<=0:\n",
    "    n=int(input(\"Input a positive Integer: \"))\n",
    "if n%2==0:\n",
    "    print(n*2)\n",
    "else:\n",
    "    print(n**2)\n",
    "    \n"
   ]
  },
  {
   "cell_type": "markdown",
   "id": "09463cdf",
   "metadata": {},
   "source": [
    "9. Write a program to find the remainder when a user input number is divided by 5 using match case. If\n",
    "the user inputs a non-integer, Python should say ”Invalid input” and stop"
   ]
  },
  {
   "cell_type": "code",
   "execution_count": 28,
   "id": "c0d5a366",
   "metadata": {},
   "outputs": [
    {
     "name": "stdout",
     "output_type": "stream",
     "text": [
      "Invalid Input\n"
     ]
    }
   ],
   "source": [
    "n=input(\"Input an Integer: \")\n",
    "\n",
    "if(n.isdigit()):\n",
    "    num=int(n)\n",
    "    rem=num%5\n",
    "    match rem:\n",
    "        case 0:\n",
    "            print(\"Remainder is 0\")\n",
    "        case 1:\n",
    "            print(\"Remainder is 1\")\n",
    "        case 2:\n",
    "            print(\"Remainder is 2\")\n",
    "        case 3:\n",
    "            print(\"Remainder is 3\")\n",
    "        case 4:\n",
    "            print(\"Remainder is 4\")\n",
    "else:\n",
    "    print(\"Invalid Input\")\n",
    "\n",
    "  "
   ]
  },
  {
   "cell_type": "code",
   "execution_count": null,
   "id": "3fef33e9",
   "metadata": {},
   "outputs": [],
   "source": []
  }
 ],
 "metadata": {
  "kernelspec": {
   "display_name": "Python 3 (ipykernel)",
   "language": "python",
   "name": "python3"
  },
  "language_info": {
   "codemirror_mode": {
    "name": "ipython",
    "version": 3
   },
   "file_extension": ".py",
   "mimetype": "text/x-python",
   "name": "python",
   "nbconvert_exporter": "python",
   "pygments_lexer": "ipython3",
   "version": "3.9.17"
  }
 },
 "nbformat": 4,
 "nbformat_minor": 5
}
