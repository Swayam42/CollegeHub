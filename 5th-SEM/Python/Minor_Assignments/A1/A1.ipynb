{
 "cells": [
  {
   "cell_type": "markdown",
   "id": "b8b6dfa0-7953-4829-83a7-a22ad1b473ea",
   "metadata": {},
   "source": [
    "<div align=\"center\">\n",
    "## Python Minor Assignment-1\n",
    "### INTRODUCTION TO PYTHON PROGRAMMING AND BASICS\n",
    "</div>"
   ]
  },
  {
   "cell_type": "code",
   "execution_count": 4,
   "id": "8bdb2ad9-d73c-4241-8545-4b8fddc050c6",
   "metadata": {},
   "outputs": [
    {
     "name": "stdin",
     "output_type": "stream",
     "text": [
      "Enter a: 7\n"
     ]
    },
    {
     "name": "stdout",
     "output_type": "stream",
     "text": [
      "30\n"
     ]
    }
   ],
   "source": [
    "#Q7\n",
    "a=int(input(\"Enter a:\"))\n",
    "a=20\n",
    "b=10\n",
    "print(a+b)"
   ]
  },
  {
   "cell_type": "code",
   "execution_count": 3,
   "id": "a1c0789f-51ec-4ac1-906d-6f8d67a55b1e",
   "metadata": {},
   "outputs": [
    {
     "name": "stdout",
     "output_type": "stream",
     "text": [
      "nananananananananananananananana Batman\n"
     ]
    }
   ],
   "source": [
    "#Q8\n",
    "a = \"nana\"\n",
    "b=8\n",
    "c=a*b\n",
    "print(c, \"Batman\")"
   ]
  },
  {
   "cell_type": "code",
   "execution_count": 5,
   "id": "2d90fb67-2c38-46f9-9397-993209def33b",
   "metadata": {},
   "outputs": [
    {
     "name": "stdout",
     "output_type": "stream",
     "text": [
      "Hi! We are studying ”Python”. \\n I hope you all are doing well.We are going to have a great time!\n"
     ]
    }
   ],
   "source": [
    "#Q9\n",
    "print('Hi! We are studying ”Python”. \\\\n I hope you all are doing well.We are going to have a great time!')"
   ]
  },
  {
   "cell_type": "code",
   "execution_count": 9,
   "id": "becd31db-a21d-42a5-beaa-ddaffd2b8ab9",
   "metadata": {},
   "outputs": [
    {
     "name": "stdout",
     "output_type": "stream",
     "text": [
      "Name: Tuchki Tuyia\n",
      "Mailing Address: \n",
      "Plot-No: XX,Uttam Nagar,\n",
      "Bhubaneswar-751009\n"
     ]
    }
   ],
   "source": [
    "#Q10\n",
    "print(\"Name: Tuchki Tuyia\")\n",
    "print(\"Mailing Address: \\nPlot-No: XX,Uttam Nagar,\\nBhubaneswar-751009\")"
   ]
  },
  {
   "cell_type": "code",
   "execution_count": 18,
   "id": "2d5a6180-eb3d-41f6-8405-fde2f86269f5",
   "metadata": {},
   "outputs": [
    {
     "name": "stdout",
     "output_type": "stream",
     "text": [
      "26\n"
     ]
    }
   ],
   "source": [
    "#Q11 P (x) = x3 + 2x2 + 3x + 4\n",
    "import math\n",
    "def fuc(x):\n",
    "    return int(math.pow(x,3) +(2*x*x)+(3*x)+4)\n",
    "print(fuc(2))\n"
   ]
  },
  {
   "cell_type": "code",
   "execution_count": 27,
   "id": "b63d302b-654e-44ec-8d6f-30ac09dc5b67",
   "metadata": {},
   "outputs": [
    {
     "name": "stdin",
     "output_type": "stream",
     "text": [
      "Input Radius:  5\n"
     ]
    },
    {
     "name": "stdout",
     "output_type": "stream",
     "text": [
      "Area of circle with radius: 5.0 = 78.53981633974483 sq.units \n",
      "Volume of sphere with radius: 5.0 = 523.5987755982989 cub.units\n"
     ]
    }
   ],
   "source": [
    "#Q12\n",
    "import math\n",
    "#from math import math.pi as pi \n",
    "r=float(input(\"Input Radius: \"))\n",
    "area=math.pi*math.pow(r,2)\n",
    "vol=(4/3)*math.pi*math.pow(r,3)\n",
    "print(f\"Area of circle with radius: {r} = {area} sq.units\")\n",
    "print(f\"Volume of sphere with radius: {r} = {vol} cub.units\")"
   ]
  },
  {
   "cell_type": "code",
   "execution_count": 29,
   "id": "a0466a35-608a-4a67-a43a-f0941469f6bb",
   "metadata": {},
   "outputs": [
    {
     "name": "stdin",
     "output_type": "stream",
     "text": [
      "Enter a number:  5\n"
     ]
    },
    {
     "name": "stdout",
     "output_type": "stream",
     "text": [
      "Sum of first 5 natural numbers=15\n"
     ]
    }
   ],
   "source": [
    "#Q13\n",
    "n=int(input(\"Enter a number: \"))\n",
    "sum=(n*(n+1))//2\n",
    "print(f\"Sum of first {n} natural numbers= {sum}\")"
   ]
  },
  {
   "cell_type": "code",
   "execution_count": 32,
   "id": "831cd854-6a0b-4f55-b9f7-337eff16560e",
   "metadata": {},
   "outputs": [
    {
     "name": "stdout",
     "output_type": "stream",
     "text": [
      "True\n",
      "False\n"
     ]
    }
   ],
   "source": [
    "#Q14\n",
    "def fun(a,b,c)->bool:\n",
    "    return (a<b) or (not(c==b) and (c<a))\n",
    "print(fun(10,5,0))\n",
    "print(fun(1.21,1.20,1.22))"
   ]
  },
  {
   "cell_type": "code",
   "execution_count": 55,
   "id": "19322d42-1b93-4494-8921-7414d8e3a4c9",
   "metadata": {},
   "outputs": [
    {
     "name": "stdout",
     "output_type": "stream",
     "text": [
      "For 10 years: 3105.85\n",
      "For 20 years: 9646.29\n",
      "For 30 years: 29959.92\n",
      "Disclaimer: Investing in Mutual Funds is subject to Market Risks. Do your due diligence before investing.\n"
     ]
    }
   ],
   "source": [
    "#Q15\n",
    "import math\n",
    "p=1000\n",
    "r=.12\n",
    "def comp(n):\n",
    "    return p*(math.pow(1+r,n))\n",
    "a=[10,20,30]\n",
    "for i in a:\n",
    "    print(f\"For {i} years: {comp(i):.2f}\")\n",
    "print(\"Disclaimer: Investing in Mutual Funds is subject to Market Risks. \\\n",
    "Do your due diligence before investing.\")"
   ]
  },
  {
   "cell_type": "code",
   "execution_count": 56,
   "id": "4e47f0a6-c314-446f-86b8-0ca34788124b",
   "metadata": {},
   "outputs": [
    {
     "name": "stdout",
     "output_type": "stream",
     "text": [
      "ok\n"
     ]
    }
   ],
   "source": [
    "#Q16\n",
    "import math\n",
    "e=math.e\n",
    "pi=math.pi\n",
    "x=math.pow(e,pi)\n",
    "y=math.pow(pi,e)\n",
    "if(x>y):\n",
    "    print(\"ok\")\n",
    "else:\n",
    "    print(\"ok anyway\")"
   ]
  },
  {
   "cell_type": "code",
   "execution_count": 58,
   "id": "ab4f6ced-445b-48c4-96cd-a01b560c26c5",
   "metadata": {},
   "outputs": [
    {
     "name": "stdout",
     "output_type": "stream",
     "text": [
      "-85.0\n",
      "2\n",
      "-50\n",
      "-25\n"
     ]
    }
   ],
   "source": [
    "#Q17\n",
    "print(-7*20+8/16*2+54) #-85.0\n",
    "print(7**2//9%3) #2\n",
    "print((7-4*2)*10-25*8//5) #-50\n",
    "print(5%10+10-25*8//5) #-25"
   ]
  },
  {
   "cell_type": "code",
   "execution_count": 59,
   "id": "3ea429dd-be33-48da-bd46-42ce229fb0e8",
   "metadata": {},
   "outputs": [
    {
     "name": "stdout",
     "output_type": "stream",
     "text": [
      "False\n"
     ]
    }
   ],
   "source": [
    "#Q18\n",
    "print('hi' > 'hello' and 'bye' < 'Bye')"
   ]
  },
  {
   "cell_type": "code",
   "execution_count": 63,
   "id": "e74b0f42-e7bb-4f84-965b-2d254e318cf4",
   "metadata": {},
   "outputs": [
    {
     "name": "stdin",
     "output_type": "stream",
     "text": [
      "Enter the price of meal:  500\n"
     ]
    },
    {
     "name": "stdout",
     "output_type": "stream",
     "text": [
      "Tax: 85.00/- \n",
      "Tip: 90.00/- \n",
      "Total: 675.00/-\n"
     ]
    }
   ],
   "source": [
    "#Q19\n",
    "u=float(input(\"Enter the price of meal: \"))\n",
    "tip=.18*u\n",
    "tax=.17*u\n",
    "total=u+tip+tax\n",
    "print(f\"Tax: {tax:.2f}/- \\nTip: {tip:.2f}/- \\nTotal: {total:.2f}/-\")\n",
    "    "
   ]
  },
  {
   "cell_type": "code",
   "execution_count": 67,
   "id": "9c607059-8bb7-467d-b1f2-951effdfed0c",
   "metadata": {},
   "outputs": [
    {
     "name": "stdin",
     "output_type": "stream",
     "text": [
      "Enter a num:  10\n",
      "Enter another num:  1\n"
     ]
    },
    {
     "name": "stdout",
     "output_type": "stream",
     "text": [
      "Sum (a+b)= 11\n",
      "Difference(a-b)= 9\n",
      "Product(a*b)= 10\n",
      "Quotient(a//b)= 10\n",
      "Remainder(a%b)= 0\n",
      "log10a= 1.0\n",
      "POwer(a^b)= 10.0\n"
     ]
    }
   ],
   "source": [
    "#Q20\n",
    "import math\n",
    "a=int(input(\"Enter a num: \"))\n",
    "b=int(input(\"Enter another num: \"))\n",
    "print(\"Sum (a+b)=\",a+b)\n",
    "print(\"Difference(a-b)=\",a-b)\n",
    "print(\"Product(a*b)=\",a*b)\n",
    "print(\"Quotient(a//b)=\",a//b)\n",
    "print(\"Remainder(a%b)=\",a%b)\n",
    "print(\"log10a=\",math.log10(a))\n",
    "print(\"POwer(a^b)=\",math.pow(a,b))"
   ]
  },
  {
   "cell_type": "code",
   "execution_count": 69,
   "id": "431b3ada-d4a5-42f5-b312-91427b787151",
   "metadata": {},
   "outputs": [
    {
     "name": "stdin",
     "output_type": "stream",
     "text": [
      "Enter height(in m):  40\n"
     ]
    },
    {
     "name": "stdout",
     "output_type": "stream",
     "text": [
      "Final Velocity:28.00m/s\n"
     ]
    }
   ],
   "source": [
    "#Q21\n",
    "import math\n",
    "height=float(input(\"Enter height(in m):\"))\n",
    "g=9.8\n",
    "vi=0\n",
    "vf=math.sqrt(math.pow(vi,2)+2*g*height)\n",
    "print(f\"Final Velocity:{vf:.2f} m/s\")"
   ]
  },
  {
   "cell_type": "code",
   "execution_count": 71,
   "id": "30885057-3d44-458d-86df-aa610dedb7d4",
   "metadata": {},
   "outputs": [
    {
     "name": "stdin",
     "output_type": "stream",
     "text": [
      "Enter temperature in celsius: 0\n"
     ]
    },
    {
     "name": "stdout",
     "output_type": "stream",
     "text": [
      "In Fahrenheit:32.00F\n",
      "In Kelvin:273.15K\n"
     ]
    }
   ],
   "source": [
    "#Q22\n",
    "c=float(input(\"Enter temperature in celsius:\"))\n",
    "f=(c*(5/9))+32\n",
    "k=c+273.15\n",
    "print(f\"In Fahrenheit:{f:.2f}F\")\n",
    "print(f\"In Kelvin:{k:.2f}K\")"
   ]
  },
  {
   "cell_type": "code",
   "execution_count": 79,
   "id": "60e88328-1b7c-42be-b0fd-ebf17ce39a15",
   "metadata": {},
   "outputs": [
    {
     "name": "stdin",
     "output_type": "stream",
     "text": [
      "Enter a 4 digit num:  232\n"
     ]
    },
    {
     "name": "stdout",
     "output_type": "stream",
     "text": [
      "2\n",
      "+\n",
      "3\n",
      "+\n",
      "2\n",
      "7\n"
     ]
    }
   ],
   "source": [
    "#Q23\n",
    "n=(input(\"Enter a 4 digit num: \"))\n",
    "sum=0\n",
    "s=n[::-1]\n",
    "N=int(s)\n",
    "while(N>0):\n",
    "    d=N%10\n",
    "    print(d)\n",
    "    if N>10:\n",
    "        print(\"+\")\n",
    "    sum+=d\n",
    "    N=N//10\n",
    "print(sum)"
   ]
  },
  {
   "cell_type": "code",
   "execution_count": null,
   "id": "b3e53fb4-31cb-4092-bdf2-dc4bda417b45",
   "metadata": {},
   "outputs": [],
   "source": [
    "#Q24\n",
    "x=int(input(\"Enter x:\"))\n",
    "y=int(input(\"Enter y:\"))\n",
    "z=int(input(\"Enter z:\"))\n"
   ]
  }
 ],
 "metadata": {
  "kernelspec": {
   "display_name": "Python 3 (ipykernel)",
   "language": "python",
   "name": "python3"
  },
  "language_info": {
   "codemirror_mode": {
    "name": "ipython",
    "version": 3
   },
   "file_extension": ".py",
   "mimetype": "text/x-python",
   "name": "python",
   "nbconvert_exporter": "python",
   "pygments_lexer": "ipython3",
   "version": "3.9.17"
  }
 },
 "nbformat": 4,
 "nbformat_minor": 5
}
