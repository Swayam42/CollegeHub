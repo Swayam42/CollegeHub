{
 "cells": [
  {
   "cell_type": "markdown",
   "id": "b8b6dfa0-7953-4829-83a7-a22ad1b473ea",
   "metadata": {},
   "source": [
    "<p align=\"center\">\n",
    "    <strong>Python Minor Assignment-1</strong><br>\n",
    "    INTRODUCTION TO PYTHON PROGRAMMING AND BASICS\n",
    "</p>"
   ]
  },
  {
   "cell_type": "markdown",
   "id": "e694651c",
   "metadata": {},
   "source": [
    "Q1. Which of the following statements is true about Python variables?  \n",
    "    a. Variable names can start with a number.  \n",
    "    b. Variables must be declared with their data types.  \n",
    "    c. **Python variables do not need to be declared before use.** ✅  \n",
    "    d. Variable names can contain spaces  "
   ]
  },
  {
   "cell_type": "markdown",
   "id": "d287c98e",
   "metadata": {},
   "source": [
    "Q2. As a follow-up of Q1, which of the following is a correct variable name in Python?  \n",
    "a. 1variable  \n",
    "b. variable 1  \n",
    "c. variable-1  \n",
    "d. **variable_1** ✅"
   ]
  },
  {
   "cell_type": "code",
   "execution_count": null,
   "id": "0a85ae38",
   "metadata": {},
   "outputs": [],
   "source": [
    "#Q3. Mention 2 ways by which you can apply comments in Python\n",
    "\n",
    "'''multi\n",
    "    line \n",
    "      comment    \n",
    "'''\n",
    "x=0 #single line comment"
   ]
  },
  {
   "cell_type": "code",
   "execution_count": null,
   "id": "26124edb",
   "metadata": {},
   "outputs": [],
   "source": [
    "#Q4. What is the difference between the ’input()’ function and the ’print()’ function in Python?\n",
    "name=input(\"Enter your name: \")  # input() takes user input\n",
    "print(\"Hello,\",name)             # print() displays the output\n"
   ]
  },
  {
   "cell_type": "markdown",
   "id": "807eb642",
   "metadata": {},
   "source": [
    "Q5. How do you convert the string '123' to an integer in Python?  \n",
    "    a. str('123')  \n",
    "    b. int(123)   \n",
    "    c. **int('123')** ✅  \n",
    "    d. float('123')  "
   ]
  },
  {
   "cell_type": "code",
   "execution_count": null,
   "id": "93b2a825",
   "metadata": {},
   "outputs": [],
   "source": [
    "# Q6. Differentiate between the following operators  \n",
    "# = vs ==\n",
    "a = 10    # '=' assigns value to a variable\n",
    "print(a == 10)  # '==' checks equality (True/False)\n",
    "\n",
    "# / vs //\n",
    "print(10 / 3)   # '/' true division that returns float value\n",
    "print(10 // 3)  # '//' floor division that returns integer quotient\n",
    "\n",
    "# * vs **\n",
    "print(2 * 3)    # '*' multiplication\n",
    "print(2 ** 3)   # '**' exponentiation (power)\n"
   ]
  },
  {
   "cell_type": "code",
   "execution_count": null,
   "id": "8bdb2ad9-d73c-4241-8545-4b8fddc050c6",
   "metadata": {},
   "outputs": [],
   "source": [
    "#Q7\n",
    "a=int(input(\"Enter a:\"))\n",
    "a=20\n",
    "b=10\n",
    "print(a+b)"
   ]
  },
  {
   "cell_type": "code",
   "execution_count": null,
   "id": "a1c0789f-51ec-4ac1-906d-6f8d67a55b1e",
   "metadata": {},
   "outputs": [],
   "source": [
    "#Q8\n",
    "a = \"nana\"\n",
    "b=8\n",
    "c=a*b\n",
    "print(c, \"Batman\")"
   ]
  },
  {
   "cell_type": "code",
   "execution_count": null,
   "id": "2d90fb67-2c38-46f9-9397-993209def33b",
   "metadata": {},
   "outputs": [],
   "source": [
    "#Q9\n",
    "print('Hi! We are studying ”Python”. \\\\n I hope you all are doing well.We are going to have a great time!')"
   ]
  },
  {
   "cell_type": "code",
   "execution_count": null,
   "id": "becd31db-a21d-42a5-beaa-ddaffd2b8ab9",
   "metadata": {},
   "outputs": [],
   "source": [
    "#Q10\n",
    "print(\"Name: Tuchki Tuyia\")\n",
    "print(\"Mailing Address: \\nPlot-No: XX,Uttam Nagar,\\nBhubaneswar-751009\")"
   ]
  },
  {
   "cell_type": "code",
   "execution_count": null,
   "id": "2d5a6180-eb3d-41f6-8405-fde2f86269f5",
   "metadata": {},
   "outputs": [],
   "source": [
    "#Q11 P (x) = x3 + 2x2 + 3x + 4\n",
    "import math\n",
    "def fuc(x):\n",
    "    return int(math.pow(x,3) +(2*x*x)+(3*x)+4)\n",
    "print(fuc(2))\n"
   ]
  },
  {
   "cell_type": "code",
   "execution_count": null,
   "id": "b63d302b-654e-44ec-8d6f-30ac09dc5b67",
   "metadata": {},
   "outputs": [],
   "source": [
    "#Q12\n",
    "import math\n",
    "#from math import math.pi as pi \n",
    "r=float(input(\"Input Radius: \"))\n",
    "area=math.pi*math.pow(r,2)\n",
    "vol=(4/3)*math.pi*math.pow(r,3)\n",
    "print(f\"Area of circle with radius: {r} = {area:.2f} sq.units\")\n",
    "print(f\"Volume of sphere with radius: {r} = {vol:.2f} cub.units\")"
   ]
  },
  {
   "cell_type": "code",
   "execution_count": null,
   "id": "a0466a35-608a-4a67-a43a-f0941469f6bb",
   "metadata": {},
   "outputs": [],
   "source": [
    "#Q13\n",
    "n=int(input(\"Enter a number: \"))\n",
    "sum=(n*(n+1))//2\n",
    "print(f\"Sum of first {n} natural numbers= {sum}\")"
   ]
  },
  {
   "cell_type": "code",
   "execution_count": null,
   "id": "831cd854-6a0b-4f55-b9f7-337eff16560e",
   "metadata": {},
   "outputs": [],
   "source": [
    "#Q14\n",
    "def fun(a,b,c)->bool:\n",
    "    return (a<b) or (not(c==b) and (c<a))\n",
    "print(fun(10,5,0))\n",
    "print(fun(1.21,1.20,1.22))"
   ]
  },
  {
   "cell_type": "code",
   "execution_count": null,
   "id": "19322d42-1b93-4494-8921-7414d8e3a4c9",
   "metadata": {},
   "outputs": [],
   "source": [
    "#Q15\n",
    "import math\n",
    "p=1000\n",
    "r=.12\n",
    "def comp(n):\n",
    "    return p*(math.pow(1+r,n))\n",
    "a=[10,20,30]\n",
    "for i in a:\n",
    "    print(f\"For {i} years: {comp(i):.2f}\")\n",
    "print(\"Disclaimer: Investing in Mutual Funds is subject to Market Risks. \\\n",
    "Do your due diligence before investing.\")"
   ]
  },
  {
   "cell_type": "code",
   "execution_count": null,
   "id": "4e47f0a6-c314-446f-86b8-0ca34788124b",
   "metadata": {},
   "outputs": [],
   "source": [
    "#Q16\n",
    "import math\n",
    "e=math.e\n",
    "pi=math.pi\n",
    "x=math.pow(e,pi)\n",
    "y=math.pow(pi,e)\n",
    "if(x>y):\n",
    "    print(\"ok\")\n",
    "else:\n",
    "    print(\"ok anyway\")"
   ]
  },
  {
   "cell_type": "code",
   "execution_count": null,
   "id": "ab4f6ced-445b-48c4-96cd-a01b560c26c5",
   "metadata": {},
   "outputs": [],
   "source": [
    "#Q17\n",
    "print(-7*20+8/16*2+54) #-85.0\n",
    "print(7**2//9%3) #2\n",
    "print((7-4*2)*10-25*8//5) #-50\n",
    "print(5%10+10-25*8//5) #-25"
   ]
  },
  {
   "cell_type": "code",
   "execution_count": null,
   "id": "3ea429dd-be33-48da-bd46-42ce229fb0e8",
   "metadata": {},
   "outputs": [],
   "source": [
    "#Q18\n",
    "print('hi' > 'hello' and 'bye' < 'Bye')"
   ]
  },
  {
   "cell_type": "code",
   "execution_count": null,
   "id": "e74b0f42-e7bb-4f84-965b-2d254e318cf4",
   "metadata": {},
   "outputs": [],
   "source": [
    "#Q19\n",
    "u=float(input(\"Enter the price of meal: \"))\n",
    "tip=.18*u\n",
    "tax=.17*u\n",
    "total=u+tip+tax\n",
    "print(f\"Tax: {tax:.2f}/- \\nTip: {tip:.2f}/- \\nTotal: {total:.2f}/-\")\n",
    "    "
   ]
  },
  {
   "cell_type": "code",
   "execution_count": null,
   "id": "9c607059-8bb7-467d-b1f2-951effdfed0c",
   "metadata": {},
   "outputs": [],
   "source": [
    "#Q20\n",
    "import math\n",
    "a=int(input(\"Enter a num: \"))\n",
    "b=int(input(\"Enter another num: \"))\n",
    "print(\"Sum (a+b)=\",a+b)\n",
    "print(\"Difference(a-b)=\",a-b)\n",
    "print(\"Product(a*b)=\",a*b)\n",
    "print(\"Quotient(a//b)=\",a//b)\n",
    "print(\"Remainder(a%b)=\",a%b)\n",
    "print(\"log10a=\",math.log10(a))\n",
    "print(\"POwer(a^b)=\",math.pow(a,b))"
   ]
  },
  {
   "cell_type": "code",
   "execution_count": null,
   "id": "431b3ada-d4a5-42f5-b312-91427b787151",
   "metadata": {},
   "outputs": [],
   "source": [
    "#Q21\n",
    "import math\n",
    "height=float(input(\"Enter height(in m):\"))\n",
    "g=9.8\n",
    "vi=0\n",
    "vf=math.sqrt(math.pow(vi,2)+2*g*height)\n",
    "print(f\"Final Velocity:{vf:.2f} m/s\")"
   ]
  },
  {
   "cell_type": "code",
   "execution_count": null,
   "id": "30885057-3d44-458d-86df-aa610dedb7d4",
   "metadata": {},
   "outputs": [],
   "source": [
    "#Q22\n",
    "c=float(input(\"Enter temperature in celsius:\"))\n",
    "f=(c*(5/9))+32\n",
    "k=c+273.15\n",
    "print(f\"In Fahrenheit:{f:.2f}F\")\n",
    "print(f\"In Kelvin:{k:.2f}K\")"
   ]
  },
  {
   "cell_type": "code",
   "execution_count": null,
   "id": "60e88328-1b7c-42be-b0fd-ebf17ce39a15",
   "metadata": {},
   "outputs": [],
   "source": [
    "#Q23\n",
    "n = int(input(\"Enter a 4 digit number: \"))\n",
    "d1=n//1000\n",
    "d2=(n//100)%10\n",
    "d3=(n//10)%10\n",
    "d4=n%10\n",
    "print(f\"{d1}+{d2}+{d3}+{d4}={d1+d2+d3+d4}\")\n",
    "\n",
    "'''\n",
    "n = input(\"Enter a number: \")\n",
    "sum_digits = 0\n",
    "s = n[::-1]       \n",
    "N = int(s)\n",
    "\n",
    "while N > 0:\n",
    "    d = N % 10\n",
    "    sum_digits += d\n",
    "    print(d, end=\"\")   \n",
    "    N //= 10\n",
    "    if N > 0:     \n",
    "        print(\" + \", end=\"\")\n",
    "print(\" =\", sum_digits)\n",
    "\n",
    "'''\n",
    "x=0"
   ]
  },
  {
   "cell_type": "code",
   "execution_count": 1,
   "id": "b3e53fb4-31cb-4092-bdf2-dc4bda417b45",
   "metadata": {},
   "outputs": [
    {
     "name": "stdout",
     "output_type": "stream",
     "text": [
      "1, 2, 3\n"
     ]
    }
   ],
   "source": [
    "#Q24\n",
    "x=int(input(\"Enter x:\"))\n",
    "y=int(input(\"Enter y:\"))\n",
    "z=int(input(\"Enter z:\"))\n",
    "smallest=min(x,y,z)\n",
    "largest=max(x,y,z)\n",
    "mid= (x+y+z) -(smallest+largest)\n",
    "print(f\"{smallest}, {mid}, {largest}\")\n"
   ]
  },
  {
   "cell_type": "code",
   "execution_count": null,
   "id": "cc1d9b13",
   "metadata": {},
   "outputs": [
    {
     "name": "stdout",
     "output_type": "stream",
     "text": [
      "Total time in seconds=90061sec\n"
     ]
    }
   ],
   "source": [
    "#Q25\n",
    "days=int(input(\"Input days:\"))\n",
    "hours=int(input(\"Input hours:\"))\n",
    "min=int(input(\"Input mins:\"))\n",
    "sec=int(input(\"Input sec:\"))\n",
    "total_time=(days*24*60*60)+(hours*60*60)+(min*60)+sec\n",
    "print(f\"Total time in seconds = {total_time} secs\")"
   ]
  },
  {
   "cell_type": "code",
   "execution_count": null,
   "id": "a1b4a0d2",
   "metadata": {},
   "outputs": [],
   "source": []
  }
 ],
 "metadata": {
  "kernelspec": {
   "display_name": "Python 3",
   "language": "python",
   "name": "python3"
  },
  "language_info": {
   "codemirror_mode": {
    "name": "ipython",
    "version": 3
   },
   "file_extension": ".py",
   "mimetype": "text/x-python",
   "name": "python",
   "nbconvert_exporter": "python",
   "pygments_lexer": "ipython3",
   "version": "3.13.2"
  }
 },
 "nbformat": 4,
 "nbformat_minor": 5
}
