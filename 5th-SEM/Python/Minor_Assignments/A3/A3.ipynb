{
 "cells": [
  {
   "cell_type": "markdown",
   "id": "e851003c-f491-43cb-9910-5ee96d7208f4",
   "metadata": {},
   "source": [
    "## Python Minor Assignment-2\n",
    "### MINOR ASSIGNMENT-3: FUNCTIONS\n"
   ]
  },
  {
   "cell_type": "markdown",
   "id": "2eaa3275-65f0-46e1-8936-91da6afc4b99",
   "metadata": {},
   "source": [
    "1. Write a Python function to find the first, second and third greatest digit in a number.  \n",
    "Sample Number: 6328  \n",
    "Expected Output: 8, 6, 3"
   ]
  },
  {
   "cell_type": "code",
   "execution_count": 22,
   "id": "af4ee045-354b-4e0c-b884-de44627bade6",
   "metadata": {},
   "outputs": [
    {
     "name": "stdout",
     "output_type": "stream",
     "text": [
      "Max=8 \n",
      "SecMax=6 \n",
      "ThirdMax=3\n"
     ]
    }
   ],
   "source": [
    "def fun(n):\n",
    "    max=-1\n",
    "    secMax=-1\n",
    "    thirdMax=-1\n",
    "    while n>0:\n",
    "        d=n%10\n",
    "        if d>max:\n",
    "            thirdMax=secMax\n",
    "            secMax=max\n",
    "            max=d\n",
    "        elif d<max and d>secMax:\n",
    "            thirdMax=secMax\n",
    "            secMax=d\n",
    "        elif d<secMax and d>thirdMax:\n",
    "            thirdMax=d\n",
    "        n//=10\n",
    "    print(f\"Max={max} \\nSecMax={secMax} \\nThirdMax={thirdMax}\")\n",
    "fun(6328)"
   ]
  },
  {
   "cell_type": "markdown",
   "id": "603b3e9b-2780-4a83-824e-b577c520d86c",
   "metadata": {},
   "source": [
    "2. Find the numbers between 100 and 500, which are divisible by 3 and multiples   of 5 using function in Python."
   ]
  },
  {
   "cell_type": "code",
   "execution_count": 30,
   "id": "56dba8fb-5871-4db3-b6c1-e0651f2fce04",
   "metadata": {},
   "outputs": [
    {
     "name": "stdout",
     "output_type": "stream",
     "text": [
      "105,120,135,150,165,180,195,210,225,240,255,270,285,300,315,330,345,360,375,390,405,420,435,450,465,480,495,"
     ]
    }
   ],
   "source": [
    "def fun(n):\n",
    "    if(n%3==0 and n%5==0):\n",
    "        print(n,end=\",\")\n",
    "for i in range(100,501):\n",
    "        fun(i)"
   ]
  },
  {
   "cell_type": "markdown",
   "id": "f1db9ed6-367f-4b94-a9a2-35638447c52c",
   "metadata": {},
   "source": [
    "3. Write a Python function to add the squares of the even numbers between 1 and  50 (both included)."
   ]
  },
  {
   "cell_type": "code",
   "execution_count": 32,
   "id": "5608b0dc-9254-422e-9cf8-18d8704c2fa2",
   "metadata": {},
   "outputs": [
    {
     "name": "stdout",
     "output_type": "stream",
     "text": [
      "22100\n"
     ]
    }
   ],
   "source": [
    "def sq():\n",
    "    sum=0\n",
    "    for i in range(1,51):\n",
    "        if(i%2==0):\n",
    "            sum+=i**2\n",
    "    print(sum)\n",
    "sq()"
   ]
  },
  {
   "cell_type": "markdown",
   "id": "5688864d-a488-4c58-82e6-b625080997e8",
   "metadata": {},
   "source": [
    "4. Write a function that takes a string as input and returns the reversed string."
   ]
  },
  {
   "cell_type": "code",
   "execution_count": 34,
   "id": "7e8698d5-13d0-4bad-bed0-769b29dd47ff",
   "metadata": {},
   "outputs": [
    {
     "name": "stdin",
     "output_type": "stream",
     "text": [
      "Enter a string:  ababa\n"
     ]
    },
    {
     "name": "stdout",
     "output_type": "stream",
     "text": [
      "ababa\n"
     ]
    }
   ],
   "source": [
    "def suta():\n",
    "    s=input(\"Enter a string: \")\n",
    "    print(s[::-1])\n",
    "suta()"
   ]
  },
  {
   "cell_type": "markdown",
   "id": "c6b2b912-1c1e-404c-be95-816752a15c67",
   "metadata": {},
   "source": [
    "5. Write a function that takes a positive integer and returns the number of digits."
   ]
  },
  {
   "cell_type": "code",
   "execution_count": 36,
   "id": "8c574d19-3443-4db7-9457-306ecda9941d",
   "metadata": {},
   "outputs": [
    {
     "name": "stdin",
     "output_type": "stream",
     "text": [
      "Input a number:  2424\n"
     ]
    },
    {
     "name": "stdout",
     "output_type": "stream",
     "text": [
      "No. of digits=4\n"
     ]
    }
   ],
   "source": [
    "def countDigits():\n",
    "    n=int(input(\"Input a number: \"))\n",
    "    count=0\n",
    "    while n>0:\n",
    "        d=n%10\n",
    "        count+=1\n",
    "        n//=10\n",
    "    print(f\"No. of digits= {count}\")\n",
    "countDigits()"
   ]
  },
  {
   "cell_type": "markdown",
   "id": "7789129c-0353-4b3d-8835-f3eab50624b2",
   "metadata": {},
   "source": [
    "6. Define a function to check if a given string is a palindrome. Example: madam ⟲ madam, racecar ⟲ racecar.  "
   ]
  },
  {
   "cell_type": "code",
   "execution_count": 39,
   "id": "feb1ec73-f3ce-42d9-aa8f-b70e18ddffe3",
   "metadata": {},
   "outputs": [
    {
     "name": "stdout",
     "output_type": "stream",
     "text": [
      "True\n"
     ]
    }
   ],
   "source": [
    "def palindrome(s)->bool:\n",
    "    return s==s[::-1]\n",
    "print(palindrome(\"madam\"))"
   ]
  },
  {
   "cell_type": "markdown",
   "id": "e9fc61a1-9f0f-4920-8ba0-5b6ee2174ed1",
   "metadata": {},
   "source": [
    "7. Write a Python function to check whether an alphabet is a vowel or consonant."
   ]
  },
  {
   "cell_type": "code",
   "execution_count": 46,
   "id": "ce3bf712-323b-4c13-b1e8-def327852b69",
   "metadata": {},
   "outputs": [
    {
     "name": "stdout",
     "output_type": "stream",
     "text": [
      "vowel\n"
     ]
    }
   ],
   "source": [
    "def checkAlpha(c):\n",
    "    c=c.lower()\n",
    "    if(c=='a' or c=='e' or c=='i' or c=='o' or c=='u'):\n",
    "        print(\"vowel\")\n",
    "    else:\n",
    "        print(\"consonant\")\n",
    "checkAlpha('A')"
   ]
  },
  {
   "cell_type": "markdown",
   "id": "8e0f6c54-aef1-498b-a329-48bd0450aba4",
   "metadata": {},
   "source": [
    "8. Write a Python program that takes the name of a month as input and returns the   number of days in that month.  \n",
    "Input: The name of the Month: February  \n",
    "Output: No. of days: 28/29 days  "
   ]
  },
  {
   "cell_type": "code",
   "execution_count": 52,
   "id": "450e3fa5-611d-4572-a06f-26ade4ac36ef",
   "metadata": {},
   "outputs": [
    {
     "name": "stdin",
     "output_type": "stream",
     "text": [
      "Name of Month:  march\n"
     ]
    },
    {
     "name": "stdout",
     "output_type": "stream",
     "text": [
      "No. of Days: 31\n"
     ]
    }
   ],
   "source": [
    "def month():\n",
    "    m=input(\"Name of Month: \")\n",
    "    m=m.lower()\n",
    "    if(m==\"january\" or m==\"march\" or m==\"may\" or m==\"july\" or m==\"august\" or m==\"october\" or m==\"december\"):\n",
    "        print(\"No. of Days: 31\")\n",
    "    elif(m==\"february\"):\n",
    "        print(\"No. of Days: 28/29\")\n",
    "    else:\n",
    "        print(\"No. of Days: 30\")\n",
    "month()"
   ]
  },
  {
   "cell_type": "markdown",
   "id": "71fed0c5-aa7d-4166-afa4-3adbc2e3f9c6",
   "metadata": {},
   "source": [
    "9. Write two functions, one of which converts a binary number to decimal and the  other one does the reverse."
   ]
  },
  {
   "cell_type": "code",
   "execution_count": 62,
   "id": "f89dd94d-b169-48c3-9818-dd7df0d75801",
   "metadata": {},
   "outputs": [
    {
     "name": "stdin",
     "output_type": "stream",
     "text": [
      "Enter a binary number:  1111\n"
     ]
    },
    {
     "name": "stdout",
     "output_type": "stream",
     "text": [
      "(1111)₂ = (15)₁₀\n"
     ]
    },
    {
     "name": "stdin",
     "output_type": "stream",
     "text": [
      "Enter a decimal number:  15\n"
     ]
    },
    {
     "name": "stdout",
     "output_type": "stream",
     "text": [
      "(15)₁₀ = (0b1111)₂\n"
     ]
    }
   ],
   "source": [
    "def binToDec():\n",
    "    b=input(\"Enter a binary number: \")\n",
    "    dec=int(b,2)\n",
    "    print(f\"({b})₂ = ({dec})₁₀\")\n",
    "def decToBin():\n",
    "    dec=int(input(\"Enter a decimal number: \"))\n",
    "    bi=bin(dec)\n",
    "    print(f\"({dec})₁₀ = ({bi})₂\")\n",
    "binToDec()\n",
    "decToBin()"
   ]
  },
  {
   "cell_type": "markdown",
   "id": "104fad3a-5ec4-47de-9931-405f9df7e435",
   "metadata": {},
   "source": [
    "10. Create a function that returns all the unique permutations of a given string"
   ]
  },
  {
   "cell_type": "code",
   "execution_count": null,
   "id": "b3ad3c41-9815-47e5-b3ff-0af3bc7f5d98",
   "metadata": {},
   "outputs": [],
   "source": []
  }
 ],
 "metadata": {
  "kernelspec": {
   "display_name": "Python 3 (ipykernel)",
   "language": "python",
   "name": "python3"
  },
  "language_info": {
   "codemirror_mode": {
    "name": "ipython",
    "version": 3
   },
   "file_extension": ".py",
   "mimetype": "text/x-python",
   "name": "python",
   "nbconvert_exporter": "python",
   "pygments_lexer": "ipython3",
   "version": "3.9.17"
  }
 },
 "nbformat": 4,
 "nbformat_minor": 5
}
