{
 "cells": [
  {
   "cell_type": "code",
   "execution_count": 1,
   "id": "31d86edd-cbe7-4758-a7f6-f9d0fbfda0ad",
   "metadata": {},
   "outputs": [],
   "source": [
    "import numpy as np\n"
   ]
  },
  {
   "cell_type": "code",
   "execution_count": 2,
   "id": "67075660-2fe6-4e39-9b25-f0a843c4a96e",
   "metadata": {},
   "outputs": [
    {
     "name": "stdout",
     "output_type": "stream",
     "text": [
      "[1, 2, 3, 4, 5]\n"
     ]
    }
   ],
   "source": [
    "arr=([1,2,3,4,5])\n",
    "print(arr)"
   ]
  },
  {
   "cell_type": "code",
   "execution_count": 3,
   "id": "1fbf883b-b2f9-4085-a7b1-e17aea2a6aa8",
   "metadata": {},
   "outputs": [
    {
     "name": "stdout",
     "output_type": "stream",
     "text": [
      "1.24.3\n"
     ]
    }
   ],
   "source": [
    "print(np.__version__)"
   ]
  },
  {
   "cell_type": "code",
   "execution_count": 4,
   "id": "4c49a8ee-8672-42eb-b88a-3c528607a07d",
   "metadata": {},
   "outputs": [
    {
     "name": "stdout",
     "output_type": "stream",
     "text": [
      "<class 'list'>\n"
     ]
    }
   ],
   "source": [
    "print(type(arr))"
   ]
  },
  {
   "cell_type": "code",
   "execution_count": 5,
   "id": "2a3650ea-de99-4c87-a1cc-ce7fae120fae",
   "metadata": {},
   "outputs": [
    {
     "name": "stdout",
     "output_type": "stream",
     "text": [
      "['1' '2' '3' 'dog']\n",
      "<class 'numpy.ndarray'>\n"
     ]
    }
   ],
   "source": [
    "#Using a tuple to create a numpy array\n",
    "tu=np.array((1,2,3,\"dog\"))\n",
    "print(tu)\n",
    "print(type(tu))"
   ]
  },
  {
   "cell_type": "markdown",
   "id": "d5cc4458-434f-4f87-a746-835f32248826",
   "metadata": {},
   "source": [
    "# Dimensions In Array"
   ]
  },
  {
   "cell_type": "code",
   "execution_count": 6,
   "id": "b885ca56-fc7a-4b00-86bc-beaaab7d5663",
   "metadata": {},
   "outputs": [
    {
     "name": "stdout",
     "output_type": "stream",
     "text": [
      "<class 'numpy.ndarray'> \n",
      "0-D Arr:  34\n"
     ]
    }
   ],
   "source": [
    "#0-D Array: \n",
    "a=np.array(34)\n",
    "print(type(a),\"\\n0-D Arr: \",a)\n"
   ]
  },
  {
   "cell_type": "code",
   "execution_count": 7,
   "id": "07f44032-ad8e-4f85-96cd-ddb189c98962",
   "metadata": {},
   "outputs": [
    {
     "name": "stdout",
     "output_type": "stream",
     "text": [
      "[1 2 3 4]\n"
     ]
    }
   ],
   "source": [
    "#1-D Array:\n",
    "ar=np.array([1,2,3,4])\n",
    "print(ar)"
   ]
  },
  {
   "cell_type": "code",
   "execution_count": 8,
   "id": "839811c2-c08a-4b4b-b2db-746385964ca9",
   "metadata": {},
   "outputs": [
    {
     "name": "stdout",
     "output_type": "stream",
     "text": [
      "[[1 2 3 4]\n",
      " [4 3 2 1]]\n"
     ]
    }
   ],
   "source": [
    "#2-D Array:\n",
    "arr2=np.array([[1,2,3,4],[4,3,2,1]])\n",
    "print(arr2)"
   ]
  },
  {
   "cell_type": "code",
   "execution_count": 9,
   "id": "9d22c6e7-88a3-4596-9273-c1bebacd842c",
   "metadata": {},
   "outputs": [
    {
     "name": "stdout",
     "output_type": "stream",
     "text": [
      "0\n",
      "1\n",
      "2\n"
     ]
    }
   ],
   "source": [
    "#to check dimensions of N-Dim-Array:\n",
    "print(a.ndim)\n",
    "print(ar.ndim)\n",
    "print(arr2.ndim)"
   ]
  },
  {
   "cell_type": "markdown",
   "id": "648e0ba8-8280-4284-b440-49a1093c1d79",
   "metadata": {},
   "source": [
    "# NumPy Array Indexing"
   ]
  },
  {
   "cell_type": "code",
   "execution_count": 10,
   "id": "ca7a9a73-1072-420e-b632-a2753fdc27e1",
   "metadata": {},
   "outputs": [],
   "source": [
    "import numpy as np"
   ]
  },
  {
   "cell_type": "code",
   "execution_count": 11,
   "id": "f132d9ab-3b4e-46d4-8e8c-2b6e72140ff2",
   "metadata": {},
   "outputs": [
    {
     "name": "stdout",
     "output_type": "stream",
     "text": [
      "[[2 3 4]\n",
      " [2 1 5]]\n",
      "<class 'numpy.ndarray'>\n",
      "2\n",
      "Shape:  (2, 3)\n",
      "At Index ar(0,0)=  2\n"
     ]
    }
   ],
   "source": [
    "ar=np.array([[2,3,4],[2,1,5]])\n",
    "print(ar)\n",
    "print(type(ar))\n",
    "print(ar.ndim)\n",
    "print(\"Shape: \",ar.shape)\n",
    "print(\"At Index ar(0,0)= \",ar[0,0])"
   ]
  },
  {
   "cell_type": "markdown",
   "id": "60752e14-7290-453b-b23c-499b4e9f2f22",
   "metadata": {},
   "source": [
    "# NumPy Data Types"
   ]
  },
  {
   "cell_type": "code",
   "execution_count": 12,
   "id": "a4728aa3-051f-44b1-860c-6e37a5062eca",
   "metadata": {},
   "outputs": [],
   "source": [
    "import numpy as np"
   ]
  },
  {
   "cell_type": "code",
   "execution_count": 13,
   "id": "c59d08f8-b3bd-4a2e-bd5d-5495f8da8f4e",
   "metadata": {},
   "outputs": [
    {
     "name": "stdout",
     "output_type": "stream",
     "text": [
      "int64\n"
     ]
    }
   ],
   "source": [
    "#integer\n",
    "arr=np.array([12,3,4,2])\n",
    "print(arr.dtype)"
   ]
  },
  {
   "cell_type": "code",
   "execution_count": 14,
   "id": "347b8b41-ec12-4ad6-a888-efcb0797e636",
   "metadata": {},
   "outputs": [
    {
     "name": "stdout",
     "output_type": "stream",
     "text": [
      "<U4\n"
     ]
    }
   ],
   "source": [
    "#string\n",
    "arr=np.array([\"abcd\",\"xyz\"])\n",
    "print(arr.dtype)"
   ]
  },
  {
   "cell_type": "code",
   "execution_count": 15,
   "id": "99e354da-1b41-46c9-adac-e4303a01d7e7",
   "metadata": {},
   "outputs": [
    {
     "name": "stdout",
     "output_type": "stream",
     "text": [
      "[b'12' b'34' b'2' b'0']\n",
      "|S2\n"
     ]
    },
    {
     "data": {
      "text/plain": [
       "'\\nThe numbers [12, 34, 2, 0] are converted to their string representations: \"12\", \"34\", \"2\", \"0\"\\nThe longest string here is \"12\" or \"34\", which has 2 chars. So NumPy assigns the datatype to |S2 as \\nbyte string of length 2.\\n'"
      ]
     },
     "execution_count": 15,
     "metadata": {},
     "output_type": "execute_result"
    }
   ],
   "source": [
    "#Creating Arrays with a defined data type : \n",
    "arr=np.array([12,34,2,0], dtype=\"S\")\n",
    "print(arr)\n",
    "print(arr.dtype)\n",
    "\n",
    "'''\n",
    "The numbers [12, 34, 2, 0] are converted to their string representations: \"12\", \"34\", \"2\", \"0\"\n",
    "The longest string here is \"12\" or \"34\", which has 2 chars. So NumPy assigns the datatype to |S2 as \n",
    "byte string of length 2.\n",
    "'''"
   ]
  },
  {
   "cell_type": "code",
   "execution_count": 16,
   "id": "93241a89-f900-4aa2-b591-b197f612a492",
   "metadata": {},
   "outputs": [
    {
     "name": "stdout",
     "output_type": "stream",
     "text": [
      "[1 2 3 4]\n",
      "int32\n"
     ]
    }
   ],
   "source": [
    "import numpy as np\n",
    "\n",
    "arr = np.array([1, 2, 3, 4], dtype='i4')\n",
    "\n",
    "print(arr)\n",
    "print(arr.dtype)"
   ]
  },
  {
   "cell_type": "code",
   "execution_count": 17,
   "id": "d7959c3c-1561-48a0-b944-d6041250c2b7",
   "metadata": {},
   "outputs": [
    {
     "name": "stdout",
     "output_type": "stream",
     "text": [
      "[1 2 3 4]\n",
      "int32\n"
     ]
    }
   ],
   "source": [
    "arr = np.array([\"1\", \"2\", \"3\", \"4\"], dtype='i')\n",
    "\n",
    "print(arr)\n",
    "print(arr.dtype)"
   ]
  },
  {
   "cell_type": "code",
   "execution_count": null,
   "id": "b0b711b4-a9ab-4008-a78c-b1806b0a9531",
   "metadata": {},
   "outputs": [],
   "source": []
  }
 ],
 "metadata": {
  "kernelspec": {
   "display_name": "Python 3 (ipykernel)",
   "language": "python",
   "name": "python3"
  },
  "language_info": {
   "codemirror_mode": {
    "name": "ipython",
    "version": 3
   },
   "file_extension": ".py",
   "mimetype": "text/x-python",
   "name": "python",
   "nbconvert_exporter": "python",
   "pygments_lexer": "ipython3",
   "version": "3.9.17"
  }
 },
 "nbformat": 4,
 "nbformat_minor": 5
}
