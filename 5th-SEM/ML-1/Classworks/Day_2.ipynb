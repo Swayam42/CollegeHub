{
 "cells": [
  {
   "cell_type": "code",
   "execution_count": 17,
   "id": "eb096551",
   "metadata": {},
   "outputs": [
    {
     "name": "stdout",
     "output_type": "stream",
     "text": [
      "1 4 9 "
     ]
    }
   ],
   "source": [
    "#Printing squares of integers from 1 to 3\n",
    "for i in[1,2,3]:\n",
    "    print(i*i,end=\" \")\n",
    "    "
   ]
  },
  {
   "cell_type": "code",
   "execution_count": 16,
   "id": "e7c5207a",
   "metadata": {},
   "outputs": [
    {
     "name": "stdout",
     "output_type": "stream",
     "text": [
      "1 2 3 4 "
     ]
    }
   ],
   "source": [
    "\n",
    "for i in range(1,5):\n",
    "    print(i, end=\" \")"
   ]
  },
  {
   "cell_type": "code",
   "execution_count": 25,
   "id": "233e6640",
   "metadata": {},
   "outputs": [
    {
     "name": "stdout",
     "output_type": "stream",
     "text": [
      "4 3 2 1 "
     ]
    }
   ],
   "source": [
    "i=4\n",
    "while(i>0):\n",
    "    print(i,end=\" \")\n",
    "    i-=1;"
   ]
  },
  {
   "cell_type": "code",
   "execution_count": 33,
   "id": "eeb4c6ea",
   "metadata": {},
   "outputs": [
    {
     "name": "stdout",
     "output_type": "stream",
     "text": [
      "120\n"
     ]
    }
   ],
   "source": [
    "#factorial\n",
    "def factorial(n):\n",
    "    fact=1\n",
    "    for i in range(1,n+1):\n",
    "        fact*=i;\n",
    "    return (fact);\n",
    "\n",
    "print(factorial(5))"
   ]
  },
  {
   "cell_type": "markdown",
   "id": "99eeebb1",
   "metadata": {},
   "source": [
    "# Numpy Library"
   ]
  },
  {
   "cell_type": "code",
   "execution_count": 34,
   "id": "74ec8cd7",
   "metadata": {},
   "outputs": [],
   "source": [
    "#Importing numpy library\n",
    "import numpy as np"
   ]
  },
  {
   "cell_type": "code",
   "execution_count": 35,
   "id": "eda07ce5",
   "metadata": {},
   "outputs": [
    {
     "name": "stdout",
     "output_type": "stream",
     "text": [
      "[1 2 3]\n"
     ]
    }
   ],
   "source": [
    "x=np.array([1,2,3])\n",
    "print(x)"
   ]
  },
  {
   "cell_type": "code",
   "execution_count": 36,
   "id": "8f1acc0d",
   "metadata": {},
   "outputs": [
    {
     "name": "stdout",
     "output_type": "stream",
     "text": [
      "7.33 ms ± 13.9 µs per loop (mean ± std. dev. of 7 runs, 100 loops each)\n",
      "331 µs ± 7.84 µs per loop (mean ± std. dev. of 7 runs, 1,000 loops each)\n"
     ]
    }
   ],
   "source": [
    "#Numpy arrays are faster than lists\n",
    "x=list(range(1000000))\n",
    "y=np.array(x)\n",
    "%timeit sum(x)\n",
    "%timeit np.sum(y)"
   ]
  },
  {
   "cell_type": "code",
   "execution_count": 41,
   "id": "6fdd7a8e",
   "metadata": {},
   "outputs": [
    {
     "name": "stdout",
     "output_type": "stream",
     "text": [
      "[ 1.5 -3.  35. ] \n",
      "Type :  <class 'numpy.ndarray'>\n"
     ]
    }
   ],
   "source": [
    "data=np.array([1.5,-3,35])\n",
    "print(data, \"\\nType : \",type(data))"
   ]
  },
  {
   "cell_type": "code",
   "execution_count": 47,
   "id": "93111f9a",
   "metadata": {},
   "outputs": [
    {
     "name": "stdout",
     "output_type": "stream",
     "text": [
      "[[1 2 3 4]\n",
      " [5 4 3 2]\n",
      " [4 5 3 3]]\n"
     ]
    }
   ],
   "source": [
    "arr=np.array([[1,2,3,4],[5,4,3,2],[4,5,3,3]])\n",
    "print(arr)"
   ]
  },
  {
   "cell_type": "code",
   "execution_count": null,
   "id": "f7b6484b",
   "metadata": {},
   "outputs": [],
   "source": []
  }
 ],
 "metadata": {
  "kernelspec": {
   "display_name": "Python 3 (ipykernel)",
   "language": "python",
   "name": "python3"
  },
  "language_info": {
   "codemirror_mode": {
    "name": "ipython",
    "version": 3
   },
   "file_extension": ".py",
   "mimetype": "text/x-python",
   "name": "python",
   "nbconvert_exporter": "python",
   "pygments_lexer": "ipython3",
   "version": "3.9.17"
  }
 },
 "nbformat": 4,
 "nbformat_minor": 5
}
