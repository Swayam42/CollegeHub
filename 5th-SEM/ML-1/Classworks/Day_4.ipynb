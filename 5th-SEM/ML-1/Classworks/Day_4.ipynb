{
 "cells": [
  {
   "cell_type": "markdown",
   "id": "f9c61402-568c-4dfc-bcfc-7453b1ceb7d3",
   "metadata": {},
   "source": [
    "# Intro To Pandas "
   ]
  },
  {
   "cell_type": "code",
   "execution_count": 1,
   "id": "782a095e-b6dd-4fd5-bda6-da49f8c29bf1",
   "metadata": {},
   "outputs": [],
   "source": [
    "import pandas as pd"
   ]
  },
  {
   "cell_type": "markdown",
   "id": "ad931bee-c6ed-410d-895f-0f46df68f086",
   "metadata": {},
   "source": [
    "# Data Structures in pandas Library\n",
    "\n",
    "Series: for 1-D data  \n",
    "DataFrame: for 2-D data"
   ]
  },
  {
   "cell_type": "code",
   "execution_count": 2,
   "id": "aa8f8102-3cc9-4769-bae6-da51234fed94",
   "metadata": {},
   "outputs": [
    {
     "name": "stdout",
     "output_type": "stream",
     "text": [
      "0    10\n",
      "1    15\n",
      "2    18\n",
      "3    22\n",
      "dtype: int64\n"
     ]
    }
   ],
   "source": [
    "#Series \n",
    "import numpy as np\n",
    "arr=np.array([10,15,18,22])\n",
    "s=pd.Series(arr)\n",
    "print(s)"
   ]
  },
  {
   "cell_type": "code",
   "execution_count": 3,
   "id": "40ed6990-d9be-4143-9936-ca016529cd76",
   "metadata": {},
   "outputs": [
    {
     "name": "stdout",
     "output_type": "stream",
     "text": [
      "1st    a\n",
      "2nd    b\n",
      "3rd    c\n",
      "4th    d\n",
      "dtype: object\n"
     ]
    }
   ],
   "source": [
    "arr=np.array(['a','b','c','d'])\n",
    "s=pd.Series(arr, index=['1st','2nd','3rd','4th'])\n",
    "print(s)"
   ]
  },
  {
   "cell_type": "code",
   "execution_count": 4,
   "id": "e353fad9-3419-4b70-b424-1e70cfae56ca",
   "metadata": {},
   "outputs": [
    {
     "name": "stdout",
     "output_type": "stream",
     "text": [
      "0    50\n",
      "1    50\n",
      "2    50\n",
      "3    50\n",
      "4    50\n",
      "dtype: int64\n"
     ]
    }
   ],
   "source": [
    "s=pd.Series(50,index=[0,1,2,3,4]) \n",
    "print(s)"
   ]
  },
  {
   "cell_type": "code",
   "execution_count": 5,
   "id": "62c36615-a53c-49be-8201-58d177164787",
   "metadata": {},
   "outputs": [
    {
     "name": "stdout",
     "output_type": "stream",
     "text": [
      "0    50\n",
      "dtype: int64\n"
     ]
    }
   ],
   "source": [
    "s=pd.Series(50) #if no index then by-default 0\n",
    "print(s)"
   ]
  },
  {
   "cell_type": "code",
   "execution_count": 6,
   "id": "eb999c60-c284-42a8-b463-6638a7cb5fc4",
   "metadata": {},
   "outputs": [
    {
     "name": "stdout",
     "output_type": "stream",
     "text": [
      "a    50\n",
      "b    50\n",
      "c    50\n",
      "d    50\n",
      "dtype: int64\n"
     ]
    }
   ],
   "source": [
    "s=pd.Series(50,index=['a','b','c','d']) \n",
    "print(s)"
   ]
  },
  {
   "cell_type": "code",
   "execution_count": 7,
   "id": "2af516f9-e4e4-4d21-9b1c-9f0a61833bbb",
   "metadata": {},
   "outputs": [
    {
     "name": "stdout",
     "output_type": "stream",
     "text": [
      "0    5\n",
      "1    7\n",
      "2    9\n",
      "dtype: int64\n"
     ]
    }
   ],
   "source": [
    "s1=pd.Series([1,2,3])\n",
    "s2=pd.Series([4,5,6])\n",
    "res=s1+s2\n",
    "print(res)"
   ]
  },
  {
   "cell_type": "code",
   "execution_count": 8,
   "id": "68e1e594-e33b-448c-9906-6fcfb9f0aa75",
   "metadata": {},
   "outputs": [
    {
     "name": "stdout",
     "output_type": "stream",
     "text": [
      "0    5.0\n",
      "1    7.0\n",
      "2    9.0\n",
      "3    NaN\n",
      "dtype: float64\n"
     ]
    }
   ],
   "source": [
    "s1=pd.Series([1,2,3])\n",
    "s2=pd.Series([4,5,6,7])\n",
    "res=s1+s2\n",
    "print(res)"
   ]
  },
  {
   "cell_type": "code",
   "execution_count": 9,
   "id": "44215028-411c-4ea6-920e-7433b4e08eb0",
   "metadata": {},
   "outputs": [
    {
     "name": "stdout",
     "output_type": "stream",
     "text": [
      "0    5\n",
      "1    7\n",
      "2    9\n",
      "dtype: int64\n"
     ]
    }
   ],
   "source": [
    "s1=pd.Series([1,2,3])\n",
    "s2=pd.Series([4,5,6])\n",
    "res=s1+s2\n",
    "print(res)"
   ]
  },
  {
   "cell_type": "code",
   "execution_count": 10,
   "id": "952e17f7-a482-4a96-a14d-c27803ac300a",
   "metadata": {},
   "outputs": [
    {
     "name": "stdout",
     "output_type": "stream",
     "text": [
      "a    5\n",
      "b    7\n",
      "c    9\n",
      "dtype: int64\n"
     ]
    }
   ],
   "source": [
    "s1=pd.Series([1,2,3],index=['a','b','c'])\n",
    "s2=pd.Series([4,5,6],index=['a','b','c'])\n",
    "s2=s2.add(s1)\n",
    "print(s2)"
   ]
  },
  {
   "cell_type": "code",
   "execution_count": 11,
   "id": "376f3a76-f35d-41f6-b300-15f735a48234",
   "metadata": {},
   "outputs": [
    {
     "name": "stdout",
     "output_type": "stream",
     "text": [
      "a    5.0\n",
      "b    7.0\n",
      "c    9.0\n",
      "d    7.0\n",
      "dtype: float64\n"
     ]
    }
   ],
   "source": [
    "s1=pd.Series([1,2,3],index=['a','b','c'])\n",
    "s2=pd.Series([4,5,6,7],index=['a','b','c','d'])\n",
    "s2=s2.add(s1,fill_value=0) #fills the empty value with 0\n",
    "print(s2)"
   ]
  },
  {
   "cell_type": "code",
   "execution_count": 12,
   "id": "5cd02545-5365-41f8-99bc-9c30e879b19a",
   "metadata": {},
   "outputs": [
    {
     "name": "stdout",
     "output_type": "stream",
     "text": [
      "0    1\n",
      "1    2\n",
      "2    3\n",
      "3    4\n",
      "4    5\n",
      "dtype: int64\n",
      "0    1\n",
      "1    2\n",
      "2    3\n",
      "dtype: int64\n"
     ]
    }
   ],
   "source": [
    "arr=np.array([1,2,3,4,5,6,7,8,9])\n",
    "s=pd.Series(arr)\n",
    "print(s.head()) #prints first 5 indices from index 0\n",
    "print(f\"{s.head(3)}\") #prints first 3 indices"
   ]
  },
  {
   "cell_type": "code",
   "execution_count": 13,
   "id": "fc98f3f1-2e4a-4122-a4fd-925cf3e80475",
   "metadata": {},
   "outputs": [
    {
     "name": "stdout",
     "output_type": "stream",
     "text": [
      "4    5\n",
      "5    6\n",
      "6    7\n",
      "7    8\n",
      "8    9\n",
      "dtype: int64\n",
      "6    7\n",
      "7    8\n",
      "8    9\n",
      "dtype: int64\n"
     ]
    }
   ],
   "source": [
    "arr=np.array([1,2,3,4,5,6,7,8,9])\n",
    "s=pd.Series(arr)\n",
    "print(s.tail()) #prints first 5 indices from last index \n",
    "print(f\"{s.tail(3)}\") #prints last 3 indices"
   ]
  },
  {
   "cell_type": "code",
   "execution_count": 27,
   "id": "e1658ae5-133e-4b86-9030-a4d9e0e0fdf5",
   "metadata": {},
   "outputs": [
    {
     "name": "stdout",
     "output_type": "stream",
     "text": [
      "0    1\n",
      "1    2\n",
      "2    3\n",
      "3    4\n",
      "dtype: int64\n"
     ]
    }
   ],
   "source": [
    "arr=np.array([1,2,3,4,5,6,7])\n",
    "s=pd.Series(arr)\n",
    "print(s.loc[:3]) #loc: inclusive"
   ]
  },
  {
   "cell_type": "code",
   "execution_count": 31,
   "id": "bfdd0cc7-ffa4-4632-b8f3-f273ccc35e61",
   "metadata": {},
   "outputs": [
    {
     "name": "stdout",
     "output_type": "stream",
     "text": [
      "a    1\n",
      "b    2\n",
      "c    3\n",
      "dtype: int64\n",
      "a    1\n",
      "b    2\n",
      "dtype: int64\n",
      "Series([], dtype: int64)\n"
     ]
    }
   ],
   "source": [
    "arr=np.array([1,2,3,4,5,6,7])\n",
    "s=pd.Series(arr,index=['a','b','c','d','e','f','g'])\n",
    "print(s.iloc[:3]) #iloc(exclusive) will extract the data according to natural indexing(0,1,2,....)\n",
    "print(s.loc['a':'b'])\n",
    "print(s.loc['d':'b']) #Output: Series([], dtype: int64)"
   ]
  },
  {
   "cell_type": "markdown",
   "id": "94b5088d-18e0-4552-bd24-706283a2a784",
   "metadata": {},
   "source": [
    "### Indexing in Series "
   ]
  },
  {
   "cell_type": "code",
   "execution_count": 35,
   "id": "b786561c-2bc3-44cb-b623-ad36660bb843",
   "metadata": {},
   "outputs": [
    {
     "name": "stdout",
     "output_type": "stream",
     "text": [
      "1st    a\n",
      "2nd    b\n",
      "3rd    c\n",
      "4th    d\n",
      "dtype: object\n",
      "Index(['1st', '2nd', '3rd', '4th'], dtype='object')\n",
      "1    a\n",
      "2    b\n",
      "3    c\n",
      "4    d\n",
      "dtype: object\n",
      "Int64Index([1, 2, 3, 4], dtype='int64')\n"
     ]
    }
   ],
   "source": [
    "arr=np.array(['a','b','c','d'])\n",
    "s=pd.Series(arr, index=['1st','2nd','3rd','4th'])\n",
    "print(s)\n",
    "print(s.index)\n",
    "s.index=[1,2,3,4]\n",
    "print(s)\n",
    "print(s.index)"
   ]
  },
  {
   "cell_type": "code",
   "execution_count": null,
   "id": "8449ddb5-f90c-4fdf-b9e6-44801364e995",
   "metadata": {},
   "outputs": [],
   "source": []
  }
 ],
 "metadata": {
  "kernelspec": {
   "display_name": "Python 3 (ipykernel)",
   "language": "python",
   "name": "python3"
  },
  "language_info": {
   "codemirror_mode": {
    "name": "ipython",
    "version": 3
   },
   "file_extension": ".py",
   "mimetype": "text/x-python",
   "name": "python",
   "nbconvert_exporter": "python",
   "pygments_lexer": "ipython3",
   "version": "3.9.17"
  }
 },
 "nbformat": 4,
 "nbformat_minor": 5
}
