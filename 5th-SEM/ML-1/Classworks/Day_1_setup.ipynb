{
 "cells": [
  {
   "cell_type": "markdown",
   "id": "9989ae84",
   "metadata": {},
   "source": [
    "# Day 1 of Machine Learning (09-09-2025)"
   ]
  },
  {
   "cell_type": "code",
   "execution_count": 1,
   "id": "df73a5b6",
   "metadata": {},
   "outputs": [
    {
     "name": "stdout",
     "output_type": "stream",
     "text": [
      "Namaste World\n"
     ]
    }
   ],
   "source": [
    "print(\"Namaste World\")"
   ]
  },
  {
   "cell_type": "code",
   "execution_count": 6,
   "id": "26026dd2",
   "metadata": {},
   "outputs": [],
   "source": [
    "a=\"hello\"\n",
    "b=34.5\n",
    "c=True\n",
    "d=12"
   ]
  },
  {
   "cell_type": "code",
   "execution_count": 8,
   "id": "5cb56982",
   "metadata": {},
   "outputs": [
    {
     "name": "stdout",
     "output_type": "stream",
     "text": [
      "hello <class 'str'>\n",
      "34.5 <class 'float'>\n",
      "True <class 'bool'>\n",
      "12 <class 'int'>\n"
     ]
    }
   ],
   "source": [
    "print(a,type(a))\n",
    "print(b,type(b))\n",
    "print(c,type(c))\n",
    "print(d,type(d))\n"
   ]
  },
  {
   "cell_type": "code",
   "execution_count": 28,
   "id": "02d45bd2",
   "metadata": {},
   "outputs": [
    {
     "name": "stdout",
     "output_type": "stream",
     "text": [
      "list : ['kya', 'hui', '?', 67, True] \n",
      "size : 5\n"
     ]
    }
   ],
   "source": [
    "list1=[\"kya\",\"hui\",'?',67,True]\n",
    "print(\"list :\",list1,\"\\nsize :\",len(list1))"
   ]
  },
  {
   "cell_type": "code",
   "execution_count": 32,
   "id": "1606e22a",
   "metadata": {},
   "outputs": [
    {
     "name": "stdout",
     "output_type": "stream",
     "text": [
      "rabbit\n"
     ]
    }
   ],
   "source": [
    "dict1={1:\"cat\",2:\"dog\",3:\"rabbit\"} #key-value pairs\n",
    "print(dict1.get(3)) #or dict1[3]"
   ]
  },
  {
   "cell_type": "code",
   "execution_count": null,
   "id": "99446f56",
   "metadata": {},
   "outputs": [],
   "source": []
  }
 ],
 "metadata": {
  "kernelspec": {
   "display_name": "Python 3 (ipykernel)",
   "language": "python",
   "name": "python3"
  },
  "language_info": {
   "codemirror_mode": {
    "name": "ipython",
    "version": 3
   },
   "file_extension": ".py",
   "mimetype": "text/x-python",
   "name": "python",
   "nbconvert_exporter": "python",
   "pygments_lexer": "ipython3",
   "version": "3.9.17"
  }
 },
 "nbformat": 4,
 "nbformat_minor": 5
}
