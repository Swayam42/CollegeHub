{
 "cells": [
  {
   "cell_type": "markdown",
   "id": "3cea9517",
   "metadata": {},
   "source": [
    " ```1. Take marks as input (0–100). Use if-elif-else to print the grade: \n",
    "    90–100 → A \n",
    "    75–89 → B \n",
    "    50–74 → C \n",
    "    Below 50 → Fail```"
   ]
  },
  {
   "cell_type": "code",
   "execution_count": null,
   "id": "b2da3c00",
   "metadata": {},
   "outputs": [],
   "source": [
    "mark=int(input(\"Enter your marks:\"))\n",
    "if mark<=100 and mark>=90:\n",
    "    print(\"Grade: A\")\n",
    "elif mark<=89 and mark>=75:\n",
    "    print(\"Grade: B\")\n",
    "elif mark<=74 and mark>=50:\n",
    "    print(\"Grade: C\")\n",
    "else:\n",
    "    print(\"Fail\")"
   ]
  },
  {
   "cell_type": "markdown",
   "id": "c7ee0ea4",
   "metadata": {},
   "source": [
    "```2. Accept a number from the user and use a while loop to find the sum of its digits.```"
   ]
  },
  {
   "cell_type": "code",
   "execution_count": null,
   "id": "010a340f",
   "metadata": {},
   "outputs": [],
   "source": [
    "num=int(input(\"Enter a number:\"))\n",
    "sum=0\n",
    "while num>0:\n",
    "    d=num%10\n",
    "    sum+=d\n",
    "    num=num//10\n",
    "print(sum)"
   ]
  },
  {
   "cell_type": "markdown",
   "id": "aa3cb129",
   "metadata": {},
   "source": [
    "3. Write a function is_prime(n) that returns True if a number is prime, otherwise False.Test it for multiple values"
   ]
  },
  {
   "cell_type": "code",
   "execution_count": null,
   "id": "d914884f",
   "metadata": {},
   "outputs": [],
   "source": [
    "def is_prime(n):\n",
    "    f=0\n",
    "    for i in range(1,n+1):\n",
    "        if n%i==0:\n",
    "            f=f+1\n",
    "    return f==2\n",
    "\n",
    "\n",
    "print(is_prime(17))\n"
   ]
  },
  {
   "cell_type": "markdown",
   "id": "89143421",
   "metadata": {},
   "source": [
    "```4. Define a function is_palindrome(word) that checks whether a string is a palindrome or not. Example: \"madam\" → Palindrome.```"
   ]
  },
  {
   "cell_type": "code",
   "execution_count": null,
   "id": "10f54580",
   "metadata": {},
   "outputs": [],
   "source": [
    "def is_palindrome(s: str):\n",
    "    s=s.lower()\n",
    "    return s==s[ : :-1]\n",
    "print(is_palindrome(\"madam\"))"
   ]
  },
  {
   "cell_type": "markdown",
   "id": "7537c753-c00f-4d46-a49d-ff36c7f9165c",
   "metadata": {},
   "source": [
    "```5. Create two 3×3 matrices and perform: \n",
    "a) Matrix multiplication \n",
    "b) Determinant of a matrix \n",
    "c) Inverse of a matrix (if possible)```"
   ]
  },
  {
   "cell_type": "code",
   "execution_count": null,
   "id": "585e46ba",
   "metadata": {},
   "outputs": [],
   "source": [
    "!pip install numpy"
   ]
  },
  {
   "cell_type": "code",
   "execution_count": 49,
   "id": "5d85fbbb",
   "metadata": {},
   "outputs": [
    {
     "name": "stdout",
     "output_type": "stream",
     "text": [
      "Multiplication: \n",
      "[[ 3  2  1]\n",
      " [18 12  6]\n",
      " [18 12  6]]\n",
      "Determinant of X: -2.9999999999999996\n",
      "Determinant of Y: 0.0\n",
      "Original Mat: \n",
      " [[ 1  0  0]\n",
      " [ 3  3  0]\n",
      " [ 5  2 -1]]\n",
      "Inverse: \n",
      " [[ 1.00000000e+00  2.22044605e-17  0.00000000e+00]\n",
      " [-1.00000000e+00  3.33333333e-01  0.00000000e+00]\n",
      " [ 3.00000000e+00  6.66666667e-01 -1.00000000e+00]]\n",
      "Verifying: \n",
      " [[ 1.  0.  0.]\n",
      " [-0.  1.  0.]\n",
      " [ 0.  0.  1.]]\n"
     ]
    }
   ],
   "source": [
    "import numpy as np\n",
    "\n",
    "X=np.array([[1,0,0],\n",
    "            [3,3,0],\n",
    "            [5,2,-1]])\n",
    "\n",
    "Y=np.array([[3,2,1],\n",
    "            [3,2,1],\n",
    "            [3,2,1]])\n",
    "\n",
    "#Matrix Multiplication : \n",
    "print(\"Multiplication: \")\n",
    "Z=np.dot(X,Y)\n",
    "print(Z)\n",
    "\n",
    "#Determinant Of A Matrix :\n",
    "det_X=np.linalg.det(X)\n",
    "print(\"Determinant of X:\",det_X)\n",
    "det_Y=np.linalg.det(Y)\n",
    "print(\"Determinant of Y:\",det_Y)\n",
    "\n",
    "#Inverse Of A Matrix(If Exists) :\n",
    "print(\"Original Mat: \\n\",X)\n",
    "if np.isclose(det_X,0):\n",
    "    print(\"Matrix is Singular.Inverse is not possible\")\n",
    "else:\n",
    "    inv_X=np.linalg.inv(X)\n",
    "    print(\"Inverse: \\n\",inv_X)\n",
    "    print(\"Verifying: \\n\",np.round(np.dot(inv_X,X),decimals=8))"
   ]
  },
  {
   "cell_type": "markdown",
   "id": "6bd9b8dd-ed4b-45ab-bc90-08ce5e8ce369",
   "metadata": {},
   "source": [
    "```\n",
    "6. Generate two NumPy arrays of 10 random integers each. Perform element-wise\n",
    "comparison (>, <, ==). Count how many times values in the first array are greater than the second.\n",
    "```"
   ]
  },
  {
   "cell_type": "code",
   "execution_count": 45,
   "id": "462fbb05-e539-4fc3-a9c3-07260e3f09e7",
   "metadata": {},
   "outputs": [
    {
     "name": "stdout",
     "output_type": "stream",
     "text": [
      "3\n"
     ]
    }
   ],
   "source": [
    "import numpy as np\n",
    "import random\n",
    "\n",
    "arr1=[]\n",
    "arr2=[]\n",
    "for i in range(10):\n",
    "    arr1.append(random.randint(1,20))\n",
    "    arr2.append(random.randint(1,20))\n",
    "arr1=np.array(arr1)\n",
    "arr2=np.array(arr2)\n",
    "count=0\n",
    "for i in range(10):\n",
    "    if arr1[i]>arr2[i]:\n",
    "        count=count+1\n",
    "print(count)"
   ]
  },
  {
   "cell_type": "code",
   "execution_count": 57,
   "id": "c368d38d-720a-4375-a61b-7c10a0520512",
   "metadata": {},
   "outputs": [
    {
     "name": "stdout",
     "output_type": "stream",
     "text": [
      "arr1[]=  [4 2 0 6 0 6 5 6 9 6] \n",
      "arr2[]=  [7 6 0 8 0 7 8 0 1 4]\n",
      "3\n"
     ]
    }
   ],
   "source": [
    "import random\n",
    "arr1=np.random.randint(0, 10, size=10)\n",
    "arr2=np.random.randint(0,10,size=10)\n",
    "print(\"arr1= \",arr1,\"\\narr2= \",arr2)\n",
    "greater_than=arr1>arr2\n",
    "g=np.sum(greater_than)\n",
    "print(g)"
   ]
  },
  {
   "cell_type": "markdown",
   "id": "fc247c54-e104-40fb-aa6d-2199c423939a",
   "metadata": {},
   "source": [
    "```Suppose you have exam marks of 10 students stored in a Python list. Convert it into a\n",
    "NumPy array and compute:\n",
    "a) Average marks of the class\n",
    " b) Students who scored above average```"
   ]
  },
  {
   "cell_type": "code",
   "execution_count": null,
   "id": "8c2fc047-7156-42f2-881f-ae096f6ccc08",
   "metadata": {},
   "outputs": [],
   "source": [
    "import numpy as np\n",
    "marks=[70,80,50,90,78,57,39,78,58,49]\n",
    "marks=np.array(marks)\n",
    "mean=np.mean(marks)\n",
    "print(\"Mean: \",mean)\n",
    "        "
   ]
  },
  {
   "cell_type": "code",
   "execution_count": null,
   "id": "3aea0659-c23a-46b9-8693-22aebf24cb78",
   "metadata": {},
   "outputs": [],
   "source": []
  }
 ],
 "metadata": {
  "kernelspec": {
   "display_name": "Python 3 (ipykernel)",
   "language": "python",
   "name": "python3"
  },
  "language_info": {
   "codemirror_mode": {
    "name": "ipython",
    "version": 3
   },
   "file_extension": ".py",
   "mimetype": "text/x-python",
   "name": "python",
   "nbconvert_exporter": "python",
   "pygments_lexer": "ipython3",
   "version": "3.9.17"
  }
 },
 "nbformat": 4,
 "nbformat_minor": 5
}
