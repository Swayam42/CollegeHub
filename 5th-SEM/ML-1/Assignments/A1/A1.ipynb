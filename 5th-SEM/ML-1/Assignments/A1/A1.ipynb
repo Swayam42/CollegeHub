{
 "cells": [
  {
   "cell_type": "markdown",
   "id": "3cea9517",
   "metadata": {},
   "source": [
    "# ML-Assignment 1\n",
    "**Name:** *Swayam Swarup Jethi*  \n",
    "**Section:** *2C1*  \n",
    "**Registration Number:** *2341010085*  \n",
    "**Serial Number:** *31*  \n",
    "**Date of Submission:** *23/09/2025*\n"
   ]
  },
  {
   "cell_type": "markdown",
   "id": "0a1dc538-92d5-4ea0-80e1-ee6d55d14d30",
   "metadata": {},
   "source": [
    " ```1. Take marks as input (0–100). Use if-elif-else to print the grade: \n",
    "    90–100 → A \n",
    "    75–89 → B \n",
    "    50–74 → C \n",
    "    Below 50 → Fail```"
   ]
  },
  {
   "cell_type": "code",
   "execution_count": 1,
   "id": "b2da3c00",
   "metadata": {},
   "outputs": [
    {
     "name": "stdin",
     "output_type": "stream",
     "text": [
      "Enter your marks: 78\n"
     ]
    },
    {
     "name": "stdout",
     "output_type": "stream",
     "text": [
      "Marks: 78\n",
      "Grade: B\n"
     ]
    }
   ],
   "source": [
    "mark=int(input(\"Enter your marks:\"))\n",
    "print(f\"Marks: {mark}\")\n",
    "if mark<=100 and mark>=90:\n",
    "    print(\"Grade: A\")\n",
    "elif mark<=89 and mark>=75:\n",
    "    print(\"Grade: B\")\n",
    "elif mark<=74 and mark>=50:\n",
    "    print(\"Grade: C\")\n",
    "else:\n",
    "    print(\"Fail\")"
   ]
  },
  {
   "cell_type": "markdown",
   "id": "c7ee0ea4",
   "metadata": {},
   "source": [
    "```2. Accept a number from the user and use a while loop to find the sum of its digits.```"
   ]
  },
  {
   "cell_type": "code",
   "execution_count": 2,
   "id": "010a340f",
   "metadata": {},
   "outputs": [
    {
     "name": "stdin",
     "output_type": "stream",
     "text": [
      "Enter a number: 1234\n"
     ]
    },
    {
     "name": "stdout",
     "output_type": "stream",
     "text": [
      "Number: 1234\n",
      "Sum=10\n"
     ]
    }
   ],
   "source": [
    "num=int(input(\"Enter a number:\"))\n",
    "sum=0\n",
    "temp=num\n",
    "while num>0:\n",
    "    d=num%10\n",
    "    sum+=d\n",
    "    num=num//10\n",
    "print(f\"Number: {temp}\\nSum={sum}\")"
   ]
  },
  {
   "cell_type": "markdown",
   "id": "aa3cb129",
   "metadata": {},
   "source": [
    "```3. Write a function is_prime(n) that returns True if a number is prime, otherwise False.Test it for multiple values```"
   ]
  },
  {
   "cell_type": "code",
   "execution_count": 3,
   "id": "d914884f",
   "metadata": {},
   "outputs": [
    {
     "name": "stdout",
     "output_type": "stream",
     "text": [
      "True\n"
     ]
    }
   ],
   "source": [
    "def is_prime(n):\n",
    "    f=0\n",
    "    for i in range(1,n+1):\n",
    "        if n%i==0:\n",
    "            f=f+1\n",
    "    return f==2\n",
    "\n",
    "\n",
    "print(is_prime(17))\n"
   ]
  },
  {
   "cell_type": "markdown",
   "id": "89143421",
   "metadata": {},
   "source": [
    "```4. Define a function is_palindrome(word) that checks whether a string is a palindrome or not. Example: \"madam\" → Palindrome.```"
   ]
  },
  {
   "cell_type": "code",
   "execution_count": 4,
   "id": "10f54580",
   "metadata": {},
   "outputs": [
    {
     "name": "stdout",
     "output_type": "stream",
     "text": [
      "True\n"
     ]
    }
   ],
   "source": [
    "def is_palindrome(s: str):\n",
    "    s=s.lower()\n",
    "    return s==s[ : :-1]\n",
    "print(is_palindrome(\"madam\"))"
   ]
  },
  {
   "cell_type": "markdown",
   "id": "7537c753-c00f-4d46-a49d-ff36c7f9165c",
   "metadata": {},
   "source": [
    "```5. Create two 3×3 matrices and perform: \n",
    "a) Matrix multiplication \n",
    "b) Determinant of a matrix \n",
    "c) Inverse of a matrix (if possible)```"
   ]
  },
  {
   "cell_type": "code",
   "execution_count": 5,
   "id": "5d85fbbb",
   "metadata": {},
   "outputs": [
    {
     "name": "stdout",
     "output_type": "stream",
     "text": [
      "Multiplication: \n",
      "[[ 3  2  1]\n",
      " [18 12  6]\n",
      " [18 12  6]]\n",
      "Determinant of X: -2.9999999999999996\n",
      "Determinant of Y: 0.0\n",
      "Original Mat: \n",
      " [[ 1  0  0]\n",
      " [ 3  3  0]\n",
      " [ 5  2 -1]]\n",
      "Inverse: \n",
      " [[ 1.00000000e+00  2.22044605e-17  0.00000000e+00]\n",
      " [-1.00000000e+00  3.33333333e-01  0.00000000e+00]\n",
      " [ 3.00000000e+00  6.66666667e-01 -1.00000000e+00]]\n",
      "Verifying: \n",
      " [[ 1.  0.  0.]\n",
      " [-0.  1.  0.]\n",
      " [ 0.  0.  1.]]\n"
     ]
    }
   ],
   "source": [
    "import numpy as np\n",
    "X=np.array([[1,0,0],\n",
    "            [3,3,0],\n",
    "            [5,2,-1]])\n",
    "\n",
    "Y=np.array([[3,2,1],\n",
    "            [3,2,1],\n",
    "            [3,2,1]])\n",
    "#Matrix Multiplication : \n",
    "print(\"Multiplication: \")\n",
    "Z=np.dot(X,Y)\n",
    "print(Z)\n",
    "#Determinant Of A Matrix :\n",
    "det_X=np.linalg.det(X)\n",
    "print(\"Determinant of X:\",det_X)\n",
    "det_Y=np.linalg.det(Y)\n",
    "print(\"Determinant of Y:\",det_Y)\n",
    "#Inverse Of A Matrix(If Exists) :\n",
    "print(\"Original Mat: \\n\",X)\n",
    "if np.isclose(det_X,0):\n",
    "    print(\"Matrix is Singular.Inverse is not possible\")\n",
    "else:\n",
    "    inv_X=np.linalg.inv(X)\n",
    "    print(\"Inverse: \\n\",inv_X)\n",
    "    print(\"Verifying: \\n\",np.round(np.dot(inv_X,X),decimals=8))"
   ]
  },
  {
   "cell_type": "markdown",
   "id": "6bd9b8dd-ed4b-45ab-bc90-08ce5e8ce369",
   "metadata": {},
   "source": [
    "```6. Generate two NumPy arrays of 10 random integers each. Perform element-wise\n",
    "comparison (>, <, ==). Count how many times values in the first array are greater than the second.```"
   ]
  },
  {
   "cell_type": "code",
   "execution_count": 6,
   "id": "462fbb05-e539-4fc3-a9c3-07260e3f09e7",
   "metadata": {},
   "outputs": [
    {
     "name": "stdout",
     "output_type": "stream",
     "text": [
      "6\n"
     ]
    }
   ],
   "source": [
    "import numpy as np\n",
    "import random\n",
    "arr1=[]\n",
    "arr2=[]\n",
    "for i in range(10):\n",
    "    arr1.append(random.randint(1,20))\n",
    "    arr2.append(random.randint(1,20))\n",
    "arr1=np.array(arr1)\n",
    "arr2=np.array(arr2)\n",
    "count=0\n",
    "for i in range(10):\n",
    "    if arr1[i]>arr2[i]:\n",
    "        count=count+1\n",
    "print(count)"
   ]
  },
  {
   "cell_type": "code",
   "execution_count": 7,
   "id": "c368d38d-720a-4375-a61b-7c10a0520512",
   "metadata": {},
   "outputs": [
    {
     "name": "stdout",
     "output_type": "stream",
     "text": [
      "arr1=  [2 9 9 4 5 4 0 1 1 0] \n",
      "arr2=  [5 9 3 8 0 4 4 8 9 1]\n",
      "2\n"
     ]
    }
   ],
   "source": [
    "import random\n",
    "arr1=np.random.randint(0, 10, size=10)\n",
    "arr2=np.random.randint(0,10,size=10)\n",
    "print(\"arr1= \",arr1,\"\\narr2= \",arr2)\n",
    "greater_than=arr1>arr2\n",
    "g=np.sum(greater_than)\n",
    "print(g)"
   ]
  },
  {
   "cell_type": "markdown",
   "id": "fc247c54-e104-40fb-aa6d-2199c423939a",
   "metadata": {},
   "source": [
    "```7. Suppose you have exam marks of 10 students stored in a Python list. Convert it into a NumPy array and compute:  \n",
    " a) Average marks of the class  \n",
    " b) Students who scored above average```"
   ]
  },
  {
   "cell_type": "code",
   "execution_count": 8,
   "id": "8c2fc047-7156-42f2-881f-ae096f6ccc08",
   "metadata": {},
   "outputs": [
    {
     "name": "stdout",
     "output_type": "stream",
     "text": [
      "Mean:  64.9\n",
      "Marks above average: [70 80 90 78 78]\n"
     ]
    }
   ],
   "source": [
    "import numpy as np\n",
    "marks=[70,80,50,90,78,57,39,78,58,49]\n",
    "marks=np.array(marks)\n",
    "mean=np.mean(marks)\n",
    "above_mean=marks[marks>mean]\n",
    "print(\"Mean: \",mean)\n",
    "print(\"Marks above average:\", above_mean)"
   ]
  },
  {
   "cell_type": "markdown",
   "id": "5f585e36-2786-436b-bb37-ee592c12165e",
   "metadata": {},
   "source": [
    "```8. Create a 4×4 NumPy array with values from 1 to 16. Perform the following:  \n",
    "a) Extract the second row  \n",
    "b) Extract the third column  \n",
    "c) Slice the sub-matrix of shape (2×2) from the bottom-right corner```"
   ]
  },
  {
   "cell_type": "code",
   "execution_count": 9,
   "id": "c53482fd-dab8-4417-abb3-6f1b55dfa2ae",
   "metadata": {},
   "outputs": [
    {
     "name": "stdout",
     "output_type": "stream",
     "text": [
      "Array:\n",
      " [[ 1  2  3  4]\n",
      " [ 5  6  7  8]\n",
      " [ 9 10 11 12]\n",
      " [13 14 15 16]]\n",
      "\n",
      "Second row: [5 6 7 8]\n",
      "\n",
      "Third column: [ 3  7 11 15]\n",
      "\n",
      "2x2 bottom-right sub-matrix:\n",
      " [[11 12]\n",
      " [15 16]]\n"
     ]
    }
   ],
   "source": [
    "import numpy as np\n",
    "arr=np.arange(1,17).reshape(4,4)\n",
    "print(\"Array:\\n\",arr)\n",
    "sec_row=arr[1]\n",
    "print(\"\\nSecond row:\",sec_row)\n",
    "third_column=arr[:,2]\n",
    "print(\"\\nThird column:\",third_column)\n",
    "sliced_matrix = arr[2:,2:]\n",
    "print(\"\\n2x2 bottom-right sub-matrix:\\n\", sliced_matrix)\n"
   ]
  },
  {
   "cell_type": "markdown",
   "id": "18f38d6e-6afb-4098-b6bf-c6cb5290c9f4",
   "metadata": {},
   "source": [
    "```9. Create a (3×4) array with consecutive numbers from 1 to 12. Demonstrate the difference between reshape() and ravel().```"
   ]
  },
  {
   "cell_type": "code",
   "execution_count": 10,
   "id": "293710cd-d37c-4c14-b656-783b54f74dde",
   "metadata": {},
   "outputs": [
    {
     "name": "stdout",
     "output_type": "stream",
     "text": [
      "Array:\n",
      " [[ 1  2  3  4]\n",
      " [ 5  6  7  8]\n",
      " [ 9 10 11 12]]\n",
      "Reshaped array (4x3):\n",
      " [[ 1  2  3]\n",
      " [ 4  5  6]\n",
      " [ 7  8  9]\n",
      " [10 11 12]]\n",
      "Raveled array:\n",
      " [ 1  2  3  4  5  6  7  8  9 10 11 12]\n"
     ]
    }
   ],
   "source": [
    "import numpy as np\n",
    "\n",
    "arr=np.arange(1,13).reshape(3,4)\n",
    "print(\"Array:\\n\", arr)\n",
    "reshaped = arr.reshape(4, 3)\n",
    "print(\"Reshaped array (4x3):\\n\",reshaped)\n",
    "raveled=arr.ravel()\n",
    "print(\"Raveled array:\\n\",raveled)"
   ]
  },
  {
   "cell_type": "markdown",
   "id": "e04b9f7f-439a-4b0f-997a-6f93d05c90ad",
   "metadata": {},
   "source": [
    "```10. Simulate rolling a six-sided dice 1,000 times using NumPy’s random.randint(). Count the frequency of each outcome and display it as a dictionary (face → count).```"
   ]
  },
  {
   "cell_type": "code",
   "execution_count": 11,
   "id": "bbfda5fe-1353-4959-81c0-df43e9f59a33",
   "metadata": {},
   "outputs": [
    {
     "name": "stdout",
     "output_type": "stream",
     "text": [
      "{1: 147, 2: 179, 3: 193, 4: 166, 5: 162, 6: 153}\n"
     ]
    }
   ],
   "source": [
    "import numpy as np\n",
    "r=np.random.randint(1,7,1000)\n",
    "counts = {}\n",
    "for i in range(1,7):\n",
    "    counts[i] = list(r).count(i)\n",
    "print(counts)"
   ]
  }
 ],
 "metadata": {
  "kernelspec": {
   "display_name": "Python 3 (ipykernel)",
   "language": "python",
   "name": "python3"
  },
  "language_info": {
   "codemirror_mode": {
    "name": "ipython",
    "version": 3
   },
   "file_extension": ".py",
   "mimetype": "text/x-python",
   "name": "python",
   "nbconvert_exporter": "python",
   "pygments_lexer": "ipython3",
   "version": "3.9.17"
  }
 },
 "nbformat": 4,
 "nbformat_minor": 5
}
