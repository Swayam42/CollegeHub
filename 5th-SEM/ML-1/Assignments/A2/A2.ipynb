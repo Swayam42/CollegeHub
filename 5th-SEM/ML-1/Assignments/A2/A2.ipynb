{
 "cells": [
  {
   "cell_type": "markdown",
   "id": "cc9491fb-e968-4559-b505-f6cbac806453",
   "metadata": {},
   "source": [
    "# ML-Assignment 2\n",
    "**Name:** *Swayam Swarup Jethi*  \n",
    "**Section:** *2C1*  \n",
    "**Registration Number:** *2341010085*  \n",
    "**Serial Number:** *31*  \n",
    "**Date of Submission:**   / 10 / 2025\n"
   ]
  },
  {
   "cell_type": "markdown",
   "id": "ee792a68-4c3d-4281-9e2f-194272a766fe",
   "metadata": {},
   "source": [
    "```1. Create a Pandas Series from a Python list [10, 20, 30, 40, 50] with customindexes ['a','b','c','d','e'].  \n",
    "(a) Print the first 3 elements.  \n",
    "(b) Access the element at index 'c'.```"
   ]
  },
  {
   "cell_type": "code",
   "execution_count": 83,
   "id": "52f495ff-69e2-4aaa-be94-c70e6358e8a7",
   "metadata": {},
   "outputs": [
    {
     "name": "stdout",
     "output_type": "stream",
     "text": [
      "first 3 elements:\n",
      "a    10\n",
      "b    20\n",
      "c    30\n",
      "dtype: int64\n",
      "element at index 'c': 30\n"
     ]
    }
   ],
   "source": [
    "import pandas as pd\n",
    "import numpy as np\n",
    "arr=np.array([10,20,30,40,50])\n",
    "s=pd.Series(arr, index=['a','b','c','d','e'])\n",
    "\n",
    "print(f\"first 3 elements:\\n{s[:3]}\")\n",
    "print(\"element at index 'c':\",s['c'])"
   ]
  },
  {
   "cell_type": "markdown",
   "id": "28c33f2d-f76a-4fcf-9b6f-1ba593c8c397",
   "metadata": {},
   "source": [
    "```2. Create a Series from a NumPy array of random integers between 1–100(size=\n",
    "10).  \n",
    "(a) Find the maximum, minimum, and mean values.  \n",
    "(b) Apply a function to square each element.```"
   ]
  },
  {
   "cell_type": "code",
   "execution_count": 84,
   "id": "52b48477-4513-43c4-8de2-1ce1e948972a",
   "metadata": {},
   "outputs": [
    {
     "name": "stdout",
     "output_type": "stream",
     "text": [
      "[96 78 61  2  2 98 88 19  7 90]\n",
      "Max=7921 \n",
      "Min=441 \n",
      "Mean=3693.0\n",
      "\n",
      "x          x²\n",
      "96    84934656\n",
      "78    37015056\n",
      "61    13845841\n",
      "2           16\n",
      "2           16\n",
      "98    92236816\n",
      "88    59969536\n",
      "19      130321\n",
      "7         2401\n",
      "90    65610000\n",
      "dtype: int64\n"
     ]
    }
   ],
   "source": [
    "import random\n",
    "arr=np.random.randint(1,100,size=10)\n",
    "print(arr)\n",
    "print(f\"Max={s2.max()} \\nMin={s2.min()} \\nMean={s2.mean()}\\n\")\n",
    "s2=pd.Series(arr**2,index=arr)\n",
    "print(f\"x          x²\\n{s2**2}\")"
   ]
  },
  {
   "cell_type": "markdown",
   "id": "af2cb923-7a90-4673-b594-b964458f6aa0",
   "metadata": {},
   "source": [
    "```3. Given a Series with values [5, np.nan, 8, np.nan, 12]:  \n",
    "(a) Check for missing values.  \n",
    "(b) Fill missing values with forward fill (ffill).  \n",
    "(c) Drop missing values.```"
   ]
  },
  {
   "cell_type": "code",
   "execution_count": 85,
   "id": "55b6035f-f124-4676-9b05-0c636d84873f",
   "metadata": {},
   "outputs": [
    {
     "name": "stdout",
     "output_type": "stream",
     "text": [
      "0    False\n",
      "1     True\n",
      "2    False\n",
      "3     True\n",
      "4    False\n",
      "dtype: bool\n",
      "No. of missing values: 2\n",
      "\n",
      "Filling missing values with forward fill: \n",
      "0     5.0\n",
      "1     5.0\n",
      "2     8.0\n",
      "3     8.0\n",
      "4    12.0\n",
      "dtype: float64\n",
      "\n",
      "Dropping Missing Values: \n",
      "0     5.0\n",
      "2     8.0\n",
      "4    12.0\n",
      "dtype: float64\n"
     ]
    }
   ],
   "source": [
    "s3=pd.Series([5,np.nan,8,np.nan,12])\n",
    "print(s3.isnull()) #isna can be used instead of isnull\n",
    "print(f\"No. of missing values: {s3.isnull().sum()}\\n\")\n",
    "print(f\"Filling missing values with forward fill: \\n{s3.ffill()}\\n\")\n",
    "print(f\"Dropping Missing Values: \\n{s3.dropna()}\")"
   ]
  },
  {
   "cell_type": "markdown",
   "id": "4488078e-1b9d-4784-b762-c40ff8cdfa41",
   "metadata": {},
   "source": [
    "```4. Convert a Python dictionary data = {'Math': 85, 'Science': 90, 'English': 88} into a Series. Retrieve the value for 'Science'. ```"
   ]
  },
  {
   "cell_type": "code",
   "execution_count": 86,
   "id": "de67173e-f044-499b-bb93-701fe254e051",
   "metadata": {},
   "outputs": [
    {
     "name": "stdout",
     "output_type": "stream",
     "text": [
      "Math       85\n",
      "Science    90\n",
      "English    88\n",
      "dtype: int64\n",
      "value for Science: 90\n"
     ]
    }
   ],
   "source": [
    "data = {'Math': 85, 'Science': 90, 'English': 88}\n",
    "s4=pd.Series(data)\n",
    "print(s4)\n",
    "print(f\"value for Science: {s4['Science']}\")"
   ]
  },
  {
   "cell_type": "markdown",
   "id": "ae80b172-45b6-46e9-a08f-50068ded457c",
   "metadata": {},
   "source": [
    "```5. Create a DataFrame using a dictionary:\n",
    "data = { 'Name': ['Amit', 'Riya', 'John', 'Sara'],\n",
    "'Age': [25, 30, 22, 28],\n",
    "'Salary': [50000, 60000, 55000, 65000]. }  \n",
    "(a) Select all rows where Age > 25.  \n",
    "(b) Select rows where Salary is between 55,000 and 65,000.```"
   ]
  },
  {
   "cell_type": "code",
   "execution_count": 87,
   "id": "76c1cbe6-32ed-4e02-93ca-759a18705752",
   "metadata": {},
   "outputs": [
    {
     "name": "stdout",
     "output_type": "stream",
     "text": [
      "Rows with Age>25: \n",
      "   Name  Age  Salary\n",
      "1  Riya   30   60000\n",
      "3  Sara   28   65000\n",
      "\n",
      "Rows with 55k<Salary<65k: \n",
      "   Name  Age  Salary\n",
      "1  Riya   30   60000\n"
     ]
    }
   ],
   "source": [
    "data = { 'Name': ['Amit', 'Riya', 'John', 'Sara'],'Age': [25, 30, 22, 28], \n",
    "        'Salary': [50000, 60000, 55000, 65000] }\n",
    "df=pd.DataFrame(data)\n",
    "print(f\"Rows with Age>25: \\n{df[df['Age']>25]}\\n\")\n",
    "print(f\"Rows with 55k<Salary<65k: \\n{df[(df['Salary'] > 55000) & (df['Salary'] < 65000)]}\")"
   ]
  },
  {
   "cell_type": "markdown",
   "id": "17eb00ac-5ea4-4543-88d8-a77541a6db20",
   "metadata": {},
   "source": [
    "```6. Create a DataFrame:\n",
    "data = { 'Department': ['HR','IT','HR','IT','Finance'],\n",
    "'Employee': ['A','B','C','D','E'],\n",
    "'Salary': [40000, 50000, 42000, 55000, 60000]. }  \n",
    "(a) Find average salary per department.  \n",
    "(b) Count employees in each department.  \n",
    "(c) Sort employees by Salary in ascending order.   \n",
    "(d) Sort by Department then by Salary (descending)```"
   ]
  },
  {
   "cell_type": "code",
   "execution_count": 88,
   "id": "3cfd45ca-ba24-4c2b-a745-85fd8e4c4ef4",
   "metadata": {},
   "outputs": [
    {
     "name": "stdout",
     "output_type": "stream",
     "text": [
      "Avg Salary Per Dept: \n",
      "Department\n",
      "Finance    60000.0\n",
      "HR         41000.0\n",
      "IT         52500.0\n",
      "Name: Salary, dtype: float64\n",
      "\n",
      "No. of Employees Per Dept: \n",
      "Department\n",
      "Finance    1\n",
      "HR         2\n",
      "IT         2\n",
      "Name: Employee, dtype: int64\n",
      "\n",
      "Employees sorted by Salary (ascending):\n",
      "  Department Employee  Salary\n",
      "0         HR        A   40000\n",
      "2         HR        C   42000\n",
      "1         IT        B   50000\n",
      "3         IT        D   55000\n",
      "4    Finance        E   60000\n",
      "\n",
      "Sorted by Department and Salary (descending):\n",
      "  Department Employee  Salary\n",
      "4    Finance        E   60000\n",
      "2         HR        C   42000\n",
      "0         HR        A   40000\n",
      "3         IT        D   55000\n",
      "1         IT        B   50000\n"
     ]
    }
   ],
   "source": [
    "data = {'Department': ['HR','IT','HR','IT','Finance'],\n",
    "'Employee': ['A','B','C','D','E'],\n",
    "'Salary': [40000, 50000, 42000, 55000, 60000]}\n",
    "df=pd.DataFrame(data)\n",
    "print(f\"Avg Salary Per Dept: \\n{df.groupby('Department')['Salary'].mean()}\\n\")\n",
    "print(f\"No. of Employees Per Dept: \\n{df.groupby('Department')['Employee'].count()}\")\n",
    "print(f\"\\nEmployees sorted by Salary (ascending):\\n{df.sort_values(by='Salary')}\")\n",
    "print(\"\\nSorted by Department and Salary (descending):\")\n",
    "print(df.sort_values(by=['Department', 'Salary'], ascending=[True, False]))"
   ]
  },
  {
   "cell_type": "markdown",
   "id": "689b0c3c-6e39-4c28-8a55-786e0e8337a4",
   "metadata": {},
   "source": [
    "7. Given a DataFrame with duplicate rows, perform the following tasks:\n",
    "- **(a)** Identify and display only the duplicate rows.\n",
    "- **(b)** Drop duplicates while:\n",
    "  - Keeping the first occurrence.\n",
    "  - Keeping the last occurrence.\n",
    "  - Removing all duplicates.\n",
    "- **(c)** Drop duplicates based on specific columns.\n",
    "- **(d)** Count the number of duplicate rows using `duplicated().sum()`.\n",
    "- **(e)** Extract only the unique values from a single column (e.g., `Name`)."
   ]
  },
  {
   "cell_type": "code",
   "execution_count": 89,
   "id": "f1e8a943-c051-4dd1-8370-95c28a489086",
   "metadata": {},
   "outputs": [
    {
     "name": "stdout",
     "output_type": "stream",
     "text": [
      "   Name  Age  Salary\n",
      "0  Amit   25   50000\n",
      "1  Riya   30   60000\n",
      "2  Amit   25   50000\n",
      "3  John   22   55000\n",
      "4  Riya   30   60000\n",
      "5  Sara   28   65000\n",
      "6  Amit   25   50000\n",
      "\n",
      "(a) Duplicate rows:\n",
      "   Name  Age  Salary\n",
      "0  Amit   25   50000\n",
      "1  Riya   30   60000\n",
      "2  Amit   25   50000\n",
      "4  Riya   30   60000\n",
      "6  Amit   25   50000\n",
      "\n",
      "(b) Drop duplicates, keeping the first occurrence:\n",
      "   Name  Age  Salary\n",
      "0  Amit   25   50000\n",
      "1  Riya   30   60000\n",
      "3  John   22   55000\n",
      "5  Sara   28   65000\n",
      "\n",
      "Drop duplicates, keeping the last occurrence:\n",
      "   Name  Age  Salary\n",
      "3  John   22   55000\n",
      "4  Riya   30   60000\n",
      "5  Sara   28   65000\n",
      "6  Amit   25   50000\n",
      "\n",
      "Drop duplicates, removing all duplicates (no duplicates remain):\n",
      "   Name  Age  Salary\n",
      "3  John   22   55000\n",
      "5  Sara   28   65000\n",
      "\n",
      "(c) Drop duplicates based on 'Name' and 'Age':\n",
      "   Name  Age  Salary\n",
      "0  Amit   25   50000\n",
      "1  Riya   30   60000\n",
      "3  John   22   55000\n",
      "5  Sara   28   65000\n",
      "\n",
      "(d) Number of duplicate rows:\n",
      "3\n",
      "\n",
      "(e) Unique values in 'Name' column:\n",
      "['Amit' 'Riya' 'John' 'Sara']\n"
     ]
    }
   ],
   "source": [
    "data={\n",
    "    'Name': ['Amit', 'Riya', 'Amit', 'John', 'Riya', 'Sara', 'Amit'],\n",
    "    'Age': [25, 30, 25, 22, 30, 28, 25],\n",
    "    'Salary': [50000, 60000, 50000, 55000, 60000, 65000, 50000]\n",
    "}\n",
    "df=pd.DataFrame(data)\n",
    "print(df)\n",
    "print(\"\\n(a) Duplicate rows:\")\n",
    "print(df[df.duplicated(keep=False)])\n",
    "print(\"\\n(b) Drop duplicates, keeping the first occurrence:\")\n",
    "print(df.drop_duplicates(keep='first'))\n",
    "print(\"\\nDrop duplicates, keeping the last occurrence:\")\n",
    "print(df.drop_duplicates(keep='last'))\n",
    "print(\"\\nDrop duplicates, removing all duplicates (no duplicates remain):\")\n",
    "print(df.drop_duplicates(keep=False))\n",
    "print(\"\\n(c) Drop duplicates based on 'Name' and 'Age':\")\n",
    "print(df.drop_duplicates(subset=['Name', 'Age'], keep='first'))\n",
    "print(\"\\n(d) Number of duplicate rows:\")\n",
    "print(df.duplicated().sum())\n",
    "print(\"\\n(e) Unique values in 'Name' column:\")\n",
    "print(df['Name'].unique())"
   ]
  },
  {
   "cell_type": "markdown",
   "id": "3e86b6fa-9d83-4401-971f-6a3fb11f039f",
   "metadata": {},
   "source": [
    "8. Given a DataFrame containing `NaN` values, perform the following tasks:\n",
    "- **(a)** Detect missing values.\n",
    "- **(b)** Count missing values per column.\n",
    "- **(c)** Drop rows:\n",
    "  - With any `NaN` values.\n",
    "  - Where all values are `NaN`.\n",
    "  - Where `NaN` appears in specific columns (e.g., `Age` or `Salary`).\n",
    "- **(d)** Fill missing values:\n",
    "  - With a fixed value (e.g., 0 or \"Unknown\").\n",
    "  - With the mean of the column.\n",
    "  - Using forward fill and backward fill.\n",
    "  - Using linear interpolation.\n",
    "- **(e)** Compare the results of forward fill versus interpolation on the same dataset.\n"
   ]
  },
  {
   "cell_type": "code",
   "execution_count": 90,
   "id": "fc24474a-6275-487d-8788-b8997d3e7f09",
   "metadata": {},
   "outputs": [
    {
     "name": "stdout",
     "output_type": "stream",
     "text": [
      "Original DataFrame:\n",
      "   Name   Age   Salary\n",
      "0  Amit  25.0  50000.0\n",
      "1  Riya   NaN  60000.0\n",
      "2   NaN  22.0      NaN\n",
      "3  John   NaN  55000.0\n",
      "4  Sara  28.0      NaN\n",
      "5   NaN  30.0      NaN\n",
      "\n",
      "(a) Detect missing values (True indicates NaN):\n",
      "    Name    Age  Salary\n",
      "0  False  False   False\n",
      "1  False   True   False\n",
      "2   True  False    True\n",
      "3  False   True   False\n",
      "4  False  False    True\n",
      "5   True  False    True\n",
      "\n",
      "(b) Count missing values per column:\n",
      "Name      2\n",
      "Age       2\n",
      "Salary    3\n",
      "dtype: int64\n",
      "\n",
      "(c) Drop rows with any NaN values:\n",
      "   Name   Age   Salary\n",
      "0  Amit  25.0  50000.0\n",
      "\n",
      "Drop rows where all values are NaN:\n",
      "   Name   Age   Salary\n",
      "0  Amit  25.0  50000.0\n",
      "1  Riya   NaN  60000.0\n",
      "2   NaN  22.0      NaN\n",
      "3  John   NaN  55000.0\n",
      "4  Sara  28.0      NaN\n",
      "5   NaN  30.0      NaN\n",
      "\n",
      "Drop rows where NaN appears in 'Age' or 'Salary':\n",
      "   Name   Age   Salary\n",
      "0  Amit  25.0  50000.0\n",
      "\n",
      "(d) Fill missing values with fixed value (0 for numeric, 'Unknown' for Name):\n",
      "      Name   Age   Salary\n",
      "0     Amit  25.0  50000.0\n",
      "1     Riya   0.0  60000.0\n",
      "2  Unknown  22.0      0.0\n",
      "3     John   0.0  55000.0\n",
      "4     Sara  28.0      0.0\n",
      "5  Unknown  30.0      0.0\n",
      "\n",
      "Fill missing values with mean of the column:\n",
      "   Name    Age   Salary\n",
      "0  Amit  25.00  50000.0\n",
      "1  Riya  26.25  60000.0\n",
      "2   NaN  22.00  55000.0\n",
      "3  John  26.25  55000.0\n",
      "4  Sara  28.00  55000.0\n",
      "5   NaN  30.00  55000.0\n",
      "\n",
      "Fill missing values with forward fill:\n",
      "   Name   Age   Salary\n",
      "0  Amit  25.0  50000.0\n",
      "1  Riya  25.0  60000.0\n",
      "2  Riya  22.0  60000.0\n",
      "3  John  22.0  55000.0\n",
      "4  Sara  28.0  55000.0\n",
      "5  Sara  30.0  55000.0\n",
      "\n",
      "Fill missing values with backward fill:\n",
      "   Name   Age   Salary\n",
      "0  Amit  25.0  50000.0\n",
      "1  Riya  22.0  60000.0\n",
      "2  John  22.0  55000.0\n",
      "3  John  28.0  55000.0\n",
      "4  Sara  28.0      NaN\n",
      "5   NaN  30.0      NaN\n",
      "\n",
      "Fill missing values with linear interpolation:\n",
      "   Name   Age   Salary\n",
      "0  Amit  25.0  50000.0\n",
      "1  Riya  23.5  60000.0\n",
      "2   NaN  22.0  57500.0\n",
      "3  John  25.0  55000.0\n",
      "4  Sara  28.0  55000.0\n",
      "5   NaN  30.0  55000.0\n",
      "\n",
      "(e) Comparison of forward fill vs interpolation:\n",
      "\n",
      "Forward fill result:\n",
      "   Name   Age   Salary\n",
      "0  Amit  25.0  50000.0\n",
      "1  Riya  25.0  60000.0\n",
      "2  Riya  22.0  60000.0\n",
      "3  John  22.0  55000.0\n",
      "4  Sara  28.0  55000.0\n",
      "5  Sara  30.0  55000.0\n",
      "\n",
      "Interpolation result:\n",
      "   Name   Age   Salary\n",
      "0  Amit  25.0  50000.0\n",
      "1  Riya  23.5  60000.0\n",
      "2   NaN  22.0  57500.0\n",
      "3  John  25.0  55000.0\n",
      "4  Sara  28.0  55000.0\n",
      "5   NaN  30.0  55000.0\n"
     ]
    }
   ],
   "source": [
    "import pandas as pd\n",
    "import numpy as np\n",
    "\n",
    "data = {\n",
    "    'Name': ['Amit', 'Riya', np.nan, 'John', 'Sara', np.nan],\n",
    "    'Age': [25, np.nan, 22, np.nan, 28, 30],\n",
    "    'Salary': [50000, 60000, np.nan, 55000, np.nan, np.nan]\n",
    "}\n",
    "df = pd.DataFrame(data)\n",
    "print(\"Original DataFrame:\")\n",
    "print(df)\n",
    "\n",
    "print(\"\\n(a) Detect missing values (True indicates NaN):\")\n",
    "print(df.isna())\n",
    "\n",
    "print(\"\\n(b) Count missing values per column:\")\n",
    "print(df.isna().sum())\n",
    "\n",
    "print(\"\\n(c) Drop rows with any NaN values:\")\n",
    "print(df.dropna())\n",
    "\n",
    "print(\"\\nDrop rows where all values are NaN:\")\n",
    "print(df.dropna(how='all'))\n",
    "\n",
    "print(\"\\nDrop rows where NaN appears in 'Age' or 'Salary':\")\n",
    "print(df.dropna(subset=['Age', 'Salary']))\n",
    "\n",
    "print(\"\\n(d) Fill missing values with fixed value (0 for numeric, 'Unknown' for Name):\")\n",
    "df_fixed = df.fillna({'Name': 'Unknown', 'Age': 0, 'Salary': 0})\n",
    "print(df_fixed)\n",
    "\n",
    "print(\"\\nFill missing values with mean of the column:\")\n",
    "df_mean = df.copy()\n",
    "df_mean['Age'] = df_mean['Age'].fillna(df_mean['Age'].mean())\n",
    "df_mean['Salary'] = df_mean['Salary'].fillna(df_mean['Salary'].mean())\n",
    "print(df_mean)\n",
    "\n",
    "print(\"\\nFill missing values with forward fill:\")\n",
    "print(df.ffill())\n",
    "\n",
    "print(\"\\nFill missing values with backward fill:\")\n",
    "print(df.bfill())\n",
    "\n",
    "print(\"\\nFill missing values with linear interpolation:\")\n",
    "print(df.interpolate(method='linear'))\n",
    "\n",
    "print(\"\\n(e) Comparison of forward fill vs interpolation:\")\n",
    "df_ffill = df.ffill()\n",
    "df_interp = df.interpolate(method='linear')\n",
    "print(\"\\nForward fill result:\")\n",
    "print(df_ffill)\n",
    "print(\"\\nInterpolation result:\")\n",
    "print(df_interp)"
   ]
  },
  {
   "cell_type": "code",
   "execution_count": null,
   "id": "a16da7bf-1452-4939-b4ed-3e4bd0d3eade",
   "metadata": {},
   "outputs": [],
   "source": []
  },
  {
   "cell_type": "code",
   "execution_count": null,
   "id": "580f7362-cc11-4f0d-9cf5-ddaf23961622",
   "metadata": {},
   "outputs": [],
   "source": []
  },
  {
   "cell_type": "code",
   "execution_count": null,
   "id": "ee60b6d6-5eca-4841-9ed7-10a076c63ef5",
   "metadata": {},
   "outputs": [],
   "source": []
  },
  {
   "cell_type": "code",
   "execution_count": null,
   "id": "65a81769-b882-4552-9761-7276344492c6",
   "metadata": {},
   "outputs": [],
   "source": []
  }
 ],
 "metadata": {
  "kernelspec": {
   "display_name": "Python 3 (ipykernel)",
   "language": "python",
   "name": "python3"
  },
  "language_info": {
   "codemirror_mode": {
    "name": "ipython",
    "version": 3
   },
   "file_extension": ".py",
   "mimetype": "text/x-python",
   "name": "python",
   "nbconvert_exporter": "python",
   "pygments_lexer": "ipython3",
   "version": "3.9.17"
  }
 },
 "nbformat": 4,
 "nbformat_minor": 5
}
