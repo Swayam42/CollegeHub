{
 "cells": [
  {
   "cell_type": "markdown",
   "id": "3cea9517",
   "metadata": {},
   "source": [
    "1. Take marks as input (0–100). Use if-elif-else to print the grade: \n",
    "    90–100 → A \n",
    "    75–89 → B \n",
    "    50–74 → C \n",
    "    Below 50 → Fail"
   ]
  },
  {
   "cell_type": "code",
   "execution_count": null,
   "id": "b2da3c00",
   "metadata": {},
   "outputs": [],
   "source": [
    "mark=int(input(\"Enter your marks:\"))\n",
    "if mark<=100 and mark>=90:\n",
    "    print(\"Grade-A\")\n",
    "elif mark<=89 and mark>=75:\n",
    "    print(\"Grade-B\")\n",
    "elif mark<=74 and mark>=50:\n",
    "    print(\"Grade-C\")\n",
    "else:\n",
    "    print(\"Fail\")"
   ]
  },
  {
   "cell_type": "markdown",
   "id": "c7ee0ea4",
   "metadata": {},
   "source": [
    "## 2. Accept a number from the user and use a while loop to find the sum of its digits. "
   ]
  },
  {
   "cell_type": "code",
   "execution_count": 12,
   "id": "010a340f",
   "metadata": {},
   "outputs": [
    {
     "name": "stdout",
     "output_type": "stream",
     "text": [
      "7\n"
     ]
    }
   ],
   "source": [
    "num=int(input(\"Enter a number:\"))\n",
    "sum=0\n",
    "while num>0:\n",
    "    d=num%10\n",
    "    sum+=d\n",
    "    num=num//10\n",
    "print(sum)"
   ]
  },
  {
   "cell_type": "markdown",
   "id": "aa3cb129",
   "metadata": {},
   "source": [
    "### 3. Write a function is_prime(n) that returns True if a number is prime, otherwise False.Test it for multiple values"
   ]
  },
  {
   "cell_type": "code",
   "execution_count": 19,
   "id": "d914884f",
   "metadata": {},
   "outputs": [
    {
     "name": "stdout",
     "output_type": "stream",
     "text": [
      "True\n"
     ]
    }
   ],
   "source": [
    "def is_prime(n):\n",
    "    f=0\n",
    "    for i in range(1,n+1):\n",
    "        if n%i==0:\n",
    "            f=f+1\n",
    "    return f==2\n",
    "\n",
    "\n",
    "print(is_prime(17))\n"
   ]
  },
  {
   "cell_type": "markdown",
   "id": "89143421",
   "metadata": {},
   "source": [
    "## 4. Define a function is_palindrome(word) that checks whether a string is a palindrome or not. Example: \"madam\" → Palindrome."
   ]
  },
  {
   "cell_type": "code",
   "execution_count": null,
   "id": "10f54580",
   "metadata": {},
   "outputs": [
    {
     "name": "stdout",
     "output_type": "stream",
     "text": [
      "False\n"
     ]
    }
   ],
   "source": [
    "def is_palindrome(s: str):\n",
    "    s=s.lower()\n",
    "    return s==s[ : :-1]\n",
    "print(is_palindrome(\"madam\"))"
   ]
  },
  {
   "cell_type": "code",
   "execution_count": null,
   "id": "585e46ba",
   "metadata": {},
   "outputs": [],
   "source": [
    "!pip install numpy"
   ]
  },
  {
   "cell_type": "code",
   "execution_count": 7,
   "id": "5d85fbbb",
   "metadata": {},
   "outputs": [
    {
     "name": "stdout",
     "output_type": "stream",
     "text": [
      "[[18 12  6]\n",
      " [18 12  6]\n",
      " [18 12  6]]\n"
     ]
    }
   ],
   "source": [
    "'''\n",
    "Create two 3×3 matrices and perform: \n",
    "a) Matrix multiplication \n",
    "b) Determinant of a matrix \n",
    "c) Inverse of a matrix (if possible)\n",
    "'''\n",
    "\n",
    "import numpy as np\n",
    "\n",
    "X=np.array([[1,2,3],\n",
    "            [1,2,3],\n",
    "            [1,2,3]])\n",
    "Y=np.array([[3,2,1],\n",
    "            [3,2,1],\n",
    "            [3,2,1]])\n",
    "\n",
    "#Matrix Multiplication : \n",
    "\n",
    "Z=np.dot(X,Y)\n",
    "print(Z)"
   ]
  },
  {
   "cell_type": "code",
   "execution_count": null,
   "id": "24d4dcd7",
   "metadata": {},
   "outputs": [],
   "source": []
  }
 ],
 "metadata": {
  "kernelspec": {
   "display_name": "Python 3",
   "language": "python",
   "name": "python3"
  },
  "language_info": {
   "codemirror_mode": {
    "name": "ipython",
    "version": 3
   },
   "file_extension": ".py",
   "mimetype": "text/x-python",
   "name": "python",
   "nbconvert_exporter": "python",
   "pygments_lexer": "ipython3",
   "version": "3.13.2"
  }
 },
 "nbformat": 4,
 "nbformat_minor": 5
}
