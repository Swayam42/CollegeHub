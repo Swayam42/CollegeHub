{
 "cells": [
  {
   "cell_type": "markdown",
   "id": "ccde4c48",
   "metadata": {},
   "source": [
    "## ML-1 - Assignment 1 (Part 2: Lab Questions)"
   ]
  },
  {
   "cell_type": "markdown",
   "id": "42f11542",
   "metadata": {},
   "source": [
    " Q1.\n",
    "(a) Create a 1D NumPy array with values 1 to 20.  \n",
    "(b) Extract all prime numbers from it.  \n",
    "(c) Compute the mean and variance of the extracted primes."
   ]
  },
  {
   "cell_type": "code",
   "execution_count": 1,
   "id": "33c634b0",
   "metadata": {},
   "outputs": [
    {
     "name": "stdout",
     "output_type": "stream",
     "text": [
      "Array: [1, 2, 3, 4, 5, 6, 7, 8, 9, 10, 11, 12, 13, 14, 15, 16, 17, 18, 19, 20]\n",
      "Primes: [ 2  3  5  7 11 13 17 19]\n",
      "Mean of primes: 9.625\n",
      "Variance of primes: 35.734375\n"
     ]
    }
   ],
   "source": [
    "import numpy as np\n",
    "arr = [ 1, 2, 3, 4 ,5 , 6, 7, 8, 9, 10, 11, 12, 13, 14, 15 ,16, 17, 18, 19, 20]\n",
    "def is_prime(n:int)->bool:\n",
    "    if n<2:\n",
    "        return False\n",
    "    for i in range(2, int(n**0.5) + 1):\n",
    "        if n % i == 0:\n",
    "            return False\n",
    "    return True\n",
    "\n",
    "primes = np.array([x for x in arr if is_prime(x)])\n",
    "mean_primes = primes.mean()\n",
    "var_primes = primes.var()\n",
    "\n",
    "print(\"Array:\", arr)\n",
    "print(\"Primes:\", primes)\n",
    "print(\"Mean of primes:\", mean_primes)\n",
    "print(\"Variance of primes:\", var_primes)"
   ]
  },
  {
   "cell_type": "markdown",
   "id": "7f6f56d9",
   "metadata": {},
   "source": [
    "Q2.\n",
    "(a) Create a 4×4 NumPy array with numbers 1 to 16.  \n",
    "(b) Extract the 2×2 bottom-left sub-matrix.  \n",
    "(c) Compute the determinant of the sub-matrix."
   ]
  },
  {
   "cell_type": "code",
   "execution_count": 2,
   "id": "866822bb",
   "metadata": {},
   "outputs": [
    {
     "name": "stdout",
     "output_type": "stream",
     "text": [
      "Matrix A:\n",
      " [[ 1  2  3  4]\n",
      " [ 5  6  7  8]\n",
      " [ 9 10 11 12]\n",
      " [13 14 15 16]]\n",
      "Bottom-left 2x2:\n",
      " [[ 9 10]\n",
      " [13 14]]\n",
      "Determinant: -4.000000000000009\n"
     ]
    }
   ],
   "source": [
    "A = np.arange(1, 17).reshape(4, 4)\n",
    "sub = A[2:4, 0:2]\n",
    "det_sub = np.linalg.det(sub)\n",
    "\n",
    "print(\"Matrix A:\\n\", A)\n",
    "print(\"Bottom-left 2x2:\\n\", sub)\n",
    "print(\"Determinant:\", det_sub)"
   ]
  },
  {
   "cell_type": "markdown",
   "id": "44dc5b62",
   "metadata": {},
   "source": [
    "Q3.\n",
    "Create a DataFrame with 5 students and marks in 3 subjects.  \n",
    "(b) Add a column for total and average marks.  \n",
    "(c) Identify the topper and print their name with average."
   ]
  },
  {
   "cell_type": "code",
   "execution_count": 3,
   "id": "bd0b5146",
   "metadata": {},
   "outputs": [
    {
     "name": "stdout",
     "output_type": "stream",
     "text": [
      "  Student  Math  Sci  Eng  Total    Average\n",
      "0   Aarav    78   85   80    243  81.000000\n",
      "1    Diya    92   81   89    262  87.333333\n",
      "2   Kabir    65   70   72    207  69.000000\n",
      "3    Mira    88   91   84    263  87.666667\n",
      "4   Rohan    73   76   79    228  76.000000\n",
      "\n",
      "Topper: Mira with avg = 87.67\n"
     ]
    }
   ],
   "source": [
    "import pandas as pd\n",
    "data = {\n",
    "    'Student': ['Aarav', 'Diya', 'Kabir', 'Mira', 'Rohan'],\n",
    "    'Math':   [78, 92, 65, 88, 73],\n",
    "    'Sci':    [85, 81, 70, 91, 76],\n",
    "    'Eng':    [80, 89, 72, 84, 79]\n",
    "}\n",
    "df = pd.DataFrame(data)\n",
    "df['Total'] = df[['Math','Sci','Eng']].sum(axis=1)\n",
    "df['Average'] = df['Total']/3\n",
    "\n",
    "topper_row = df.loc[df['Average'].idxmax()]\n",
    "print(df)\n",
    "print(\"\\nTopper:\", topper_row['Student'], \"with avg =\", round(topper_row['Average'], 2))"
   ]
  },
  {
   "cell_type": "markdown",
   "id": "b5d301ed",
   "metadata": {},
   "source": [
    "Q4.\n",
    "(a) Simulate 1000 coin tosses using NumPy (1=Head, 0=Tail).  \n",
    "(b) Count frequency of heads and tails.  \n",
    "(c) Estimate probability of heads. Is it close to 0.5? Why/Why not?"
   ]
  },
  {
   "cell_type": "code",
   "execution_count": 4,
   "id": "56e930c1",
   "metadata": {},
   "outputs": [
    {
     "name": "stdout",
     "output_type": "stream",
     "text": [
      "{'heads': 509, 'tails': 491, 'p_head': 0.509}\n",
      "Is it close to 0.5? True (random variation)\n"
     ]
    }
   ],
   "source": [
    "# 1000 tosses: 1=heads, 0=tails\n",
    "rng = np.random.default_rng(42)\n",
    "tosses = rng.integers(0, 2, size=1000)\n",
    "heads = int(np.sum(tosses))\n",
    "tails = int(len(tosses) - heads)\n",
    "p_head = heads / len(tosses)\n",
    "\n",
    "print({\"heads\": heads, \"tails\": tails, \"p_head\": round(p_head, 3)})\n",
    "print(\"Is it close to 0.5?\", abs(p_head - 0.5) < 0.05, \"(random variation)\")"
   ]
  },
  {
   "cell_type": "markdown",
   "id": "2e372c87",
   "metadata": {},
   "source": [
    "Q5.\n",
    "(a) Create a DataFrame of employees with columns: ID, Name, Salary.\n",
    "(b) Add a Bonus column = 10% of Salary.\n",
    "(c) Display employees with salary above average."
   ]
  },
  {
   "cell_type": "code",
   "execution_count": 5,
   "id": "0178f0b2",
   "metadata": {},
   "outputs": [
    {
     "name": "stdout",
     "output_type": "stream",
     "text": [
      "    ID    Name  Salary   Bonus\n",
      "0  101    Arya   50000  5000.0\n",
      "1  102    Biju   62000  6200.0\n",
      "2  103  Chetan   48000  4800.0\n",
      "3  104     Dia   75000  7500.0\n",
      "4  105    Esha   58000  5800.0\n",
      "\n",
      "Average salary: 58600.0\n",
      "\n",
      "Employees with salary above average:\n",
      "     ID  Name  Salary   Bonus\n",
      "1  102  Biju   62000  6200.0\n",
      "3  104   Dia   75000  7500.0\n"
     ]
    }
   ],
   "source": [
    "emp = pd.DataFrame({\n",
    "    'ID':    [101, 102, 103, 104, 105],\n",
    "    'Name':  ['Arya', 'Biju', 'Chetan', 'Dia', 'Esha'],\n",
    "    'Salary':[50000, 62000, 48000, 75000, 58000]\n",
    "})\n",
    "emp['Bonus'] = emp['Salary'] * 0.10\n",
    "avg_salary = emp['Salary'].mean()\n",
    "print(emp)\n",
    "print(\"\\nAverage salary:\", round(avg_salary, 2))\n",
    "print(\"\\nEmployees with salary above average:\\n\", emp[emp['Salary'] > avg_salary])"
   ]
  },
  {
   "cell_type": "markdown",
   "id": "4ffcaf98",
   "metadata": {},
   "source": [
    "Q6.\n",
    "(a) Create a 3×3 NumPy array with values 1 to 9.\n",
    "(b) Find its transpose and inverse.\n",
    "(c) Verify that A × A⁻¹ ≈ I."
   ]
  },
  {
   "cell_type": "code",
   "execution_count": 6,
   "id": "ea8566be",
   "metadata": {},
   "outputs": [
    {
     "name": "stdout",
     "output_type": "stream",
     "text": [
      "Matrix A:\n",
      " [[1 2 3]\n",
      " [4 5 6]\n",
      " [7 8 9]]\n",
      "\n",
      "Transpose of A:\n",
      " [[1 4 7]\n",
      " [2 5 8]\n",
      " [3 6 9]]\n",
      "\n",
      "Matrix B:\n",
      " [[1 2 3]\n",
      " [0 1 4]\n",
      " [5 6 0]]\n",
      "\n",
      "Inverse of B:\n",
      " [[-24.  18.   5.]\n",
      " [ 20. -15.  -4.]\n",
      " [ -5.   4.   1.]]\n",
      "\n",
      "B × B⁻¹:\n",
      " [[ 1.00000000e+00 -2.66453526e-15  0.00000000e+00]\n",
      " [ 0.00000000e+00  1.00000000e+00  0.00000000e+00]\n",
      " [ 0.00000000e+00 -7.10542736e-15  1.00000000e+00]]\n"
     ]
    }
   ],
   "source": [
    "import numpy as np\n",
    " \n",
    "A = np.array([[1,2,3],\n",
    "              [4,5,6],\n",
    "              [7,8,9]])\n",
    "print(\"Matrix A:\\n\", A)\n",
    "A_T = A.T\n",
    "print(\"\\nTranspose of A:\\n\", A_T)\n",
    "B = np.array([[1,2,3],\n",
    "[0,1,4],\n",
    "[5,6,0]])\n",
    "B_inv = np.linalg.inv(B)\n",
    "print(\"\\nMatrix B:\\n\", B)\n",
    "print(\"\\nInverse of B:\\n\", B_inv)\n",
    "\n",
    "I = np.dot(B, B_inv)\n",
    "print(\"\\nB × B⁻¹:\\n\", I)"
   ]
  },
  {
   "cell_type": "markdown",
   "id": "5fd9c5ad",
   "metadata": {},
   "source": [
    "Q7. \n",
    "(a) Generate random daily temperatures (30 values, range 20–40°C).\n",
    "(b) Find the hottest and coldest day.\n",
    "(c) Compute mean, median, and standard deviation of temperatures."
   ]
  },
  {
   "cell_type": "code",
   "execution_count": 7,
   "id": "63991d7d",
   "metadata": {},
   "outputs": [
    {
     "name": "stdout",
     "output_type": "stream",
     "text": [
      "Daily Temperatures:\n",
      " [39 37 21 35 38 28 28 24 30 23 27 27 30 36 28 27 38 37 21 30 38 34 36 29\n",
      " 21 28 26 40 27 21]\n",
      "\n",
      "Hottest Day Temperature: 40°C\n",
      "Coldest Day Temperature: 21°C\n",
      "\n",
      "Mean Temperature: 30.13°C\n",
      "Median Temperature: 28.50°C\n",
      "Standard Deviation: 5.95°C\n"
     ]
    }
   ],
   "source": [
    "import numpy as np\n",
    "temperatures = np.random.randint(20, 41, 30)\n",
    "print(\"Daily Temperatures:\\n\", temperatures)\n",
    " # (b) \n",
    "hottest = np.max(temperatures)\n",
    "coldest = np.min(temperatures)\n",
    "print(f\"\\nHottest Day Temperature: {hottest}°C\")\n",
    "print(f\"Coldest Day Temperature: {coldest}°C\")\n",
    " # (c) \n",
    "mean_temp = np.mean(temperatures)\n",
    "median_temp = np.median(temperatures)\n",
    "std_temp = np.std(temperatures)\n",
    "print(f\"\\nMean Temperature: {mean_temp:.2f}°C\")\n",
    "print(f\"Median Temperature: {median_temp:.2f}°C\")\n",
    "print(f\"Standard Deviation: {std_temp:.2f}°C\")"
   ]
  },
  {
   "cell_type": "markdown",
   "id": "127bc87c",
   "metadata": {},
   "source": [
    "Q8.\n",
    "(a) Create a Pandas Series of marks for 8 students.\n",
    "(b) Replace all marks below 40 with “Fail”.\n",
    "(c) Count how many students passed."
   ]
  },
  {
   "cell_type": "code",
   "execution_count": 8,
   "id": "797241fc",
   "metadata": {},
   "outputs": [
    {
     "name": "stdout",
     "output_type": "stream",
     "text": [
      "Marks of Students:\n",
      " Amit       55\n",
      "Riya       38\n",
      "Kunal      72\n",
      "Neha       45\n",
      "Sanjay     30\n",
      "Priya      67\n",
      "Ankit      49\n",
      "Kishore    28\n",
      "dtype: int64\n",
      "\n",
      "Marks after replacing below 40 with 'Fail':\n",
      " Amit         55\n",
      "Riya       Fail\n",
      "Kunal        72\n",
      "Neha         45\n",
      "Sanjay     Fail\n",
      "Priya        67\n",
      "Ankit        49\n",
      "Kishore    Fail\n",
      "dtype: object\n",
      "\n",
      "Number of students passed: 5\n"
     ]
    }
   ],
   "source": [
    "import pandas as pd\n",
    "marks = pd.Series([55, 38, 72, 45, 30, 67, 49, 28], \n",
    "index=['Amit','Riya','Kunal','Neha','Sanjay','Priya','Ankit','Kishore'])\n",
    "print(\"Marks of Students:\\n\", marks)\n",
    "\n",
    "marks_status = marks.apply(lambda x: x if x >= 40 else \"Fail\")\n",
    "print(\"\\nMarks after replacing below 40 with 'Fail':\\n\", marks_status)\n",
    "\n",
    "passed_count = sum(marks_status != \"Fail\")\n",
    "print(f\"\\nNumber of students passed: {passed_count}\")\n"
   ]
  },
  {
   "cell_type": "markdown",
   "id": "6c1dbd85",
   "metadata": {},
   "source": [
    "Q9\n",
    "(a) Generate 500 random integers between 1 and 6 (simulate dice rolls).  \n",
    "(b) Count how many times each face appears.  \n",
    "(c) Compute relative frequencies and compare with theoretical 1/6."
   ]
  },
  {
   "cell_type": "code",
   "execution_count": null,
   "id": "abce93b8",
   "metadata": {},
   "outputs": [
    {
     "name": "stdout",
     "output_type": "stream",
     "text": [
      "Counts:\n",
      " 1    69\n",
      "2    90\n",
      "3    87\n",
      "4    96\n",
      "5    84\n",
      "6    74\n",
      "Name: count, dtype: int64\n",
      "\n",
      "Relative freq:\n",
      " 1    0.138\n",
      "2    0.180\n",
      "3    0.174\n",
      "4    0.192\n",
      "5    0.168\n",
      "6    0.148\n",
      "Name: count, dtype: float64\n",
      "\n",
      "Theoretical per-face prob = 1/6 ≈ 0.167\n"
     ]
    }
   ],
   "source": [
    "rng = np.random.default_rng(99)\n",
    "rolls = rng.integers(1, 7, size=500)\n",
    "counts = pd.Series(rolls).value_counts().sort_index()\n",
    "rel = counts / counts.sum()\n",
    "\n",
    "print(\"Counts:\\n\", counts)\n",
    "print(\"\\nRelative freq:\\n\", rel.round(3))\n",
    "print(\"\\nTheoretical per-face prob = 1/6 ≈\", round(1/6, 3))"
   ]
  },
  {
   "cell_type": "markdown",
   "id": "a6ae1beb",
   "metadata": {},
   "source": [
    "Q10.\n",
    "(a) Create a DataFrame with 6 products (Name, Quantity, Price).  \n",
    "(b) Add a column “Total = Quantity × Price”.  \n",
    "(c) Find which product generated maximum sales revenue."
   ]
  },
  {
   "cell_type": "code",
   "execution_count": 10,
   "id": "ac0ecb4a",
   "metadata": {},
   "outputs": [
    {
     "name": "stdout",
     "output_type": "stream",
     "text": [
      "       Name  Quantity  Price  Total\n",
      "0       Pen        10    5.0   50.0\n",
      "1  Notebook         5   50.0  250.0\n",
      "2    Eraser        20    3.0   60.0\n",
      "3    Pencil        15    4.0   60.0\n",
      "4    Marker         7   20.0  140.0\n",
      "5     Scale         9   10.0   90.0\n",
      "\n",
      "Max revenue product: Notebook = 250.0\n"
     ]
    }
   ],
   "source": [
    "products = pd.DataFrame({\n",
    "    'Name': ['Pen', 'Notebook', 'Eraser', 'Pencil', 'Marker', 'Scale'],\n",
    "    'Quantity': [10, 5, 20, 15, 7, 9],\n",
    "    'Price': [5.0, 50.0, 3.0, 4.0, 20.0, 10.0]\n",
    "})\n",
    "products['Total'] = products['Quantity'] * products['Price']\n",
    "max_row = products.loc[products['Total'].idxmax()]\n",
    "print(products)\n",
    "print(\"\\nMax revenue product:\", max_row['Name'], \"=\", max_row['Total'])"
   ]
  },
  {
   "cell_type": "markdown",
   "id": "f130df6e",
   "metadata": {},
   "source": [
    "Q11.\n",
    "(a) Create a DataFrame with some missing values (NaN).  \n",
    "(b) Fill missing values with column mean.  \n",
    "(c) Drop rows where more than 1 value is missing."
   ]
  },
  {
   "cell_type": "code",
   "execution_count": 11,
   "id": "15675db4",
   "metadata": {},
   "outputs": [
    {
     "name": "stdout",
     "output_type": "stream",
     "text": [
      "Original:\n",
      "      A    B     C\n",
      "0  1.0  NaN   7.0\n",
      "1  2.0  5.0   NaN\n",
      "2  NaN  6.0   9.0\n",
      "3  4.0  NaN  10.0\n",
      "\n",
      "Filled with column mean:\n",
      "           A    B          C\n",
      "0  1.000000  5.5   7.000000\n",
      "1  2.000000  5.0   8.666667\n",
      "2  2.333333  6.0   9.000000\n",
      "3  4.000000  5.5  10.000000\n",
      "\n",
      "Rows with >1 NaN removed:\n",
      "           A    B          C\n",
      "0  1.000000  5.5   7.000000\n",
      "1  2.000000  5.0   8.666667\n",
      "2  2.333333  6.0   9.000000\n",
      "3  4.000000  5.5  10.000000\n"
     ]
    }
   ],
   "source": [
    "raw = pd.DataFrame({\n",
    "    'A': [1.0, 2.0, np.nan, 4.0],\n",
    "    'B': [np.nan, 5.0, 6.0, np.nan],\n",
    "    'C': [7.0, np.nan, 9.0, 10.0]\n",
    "})\n",
    "print(\"Original:\\n\", raw)\n",
    "filled = raw.fillna(raw.mean(numeric_only=True))\n",
    "print(\"\\nFilled with column mean:\\n\", filled)\n",
    "mask_too_many = raw.isna().sum(axis=1) > 1\n",
    "cleaned = filled.loc[~mask_too_many].reset_index(drop=True)\n",
    "print(\"\\nRows with >1 NaN removed:\\n\", cleaned)"
   ]
  },
  {
   "cell_type": "markdown",
   "id": "6bfdca29",
   "metadata": {},
   "source": [
    "Q12.\n",
    "(a) Create a NumPy array with integers from 1 to 30.  \n",
    "(b) Reshape it into a 5×6 matrix.  \n",
    "(c) Extract all even numbers and compute their average."
   ]
  },
  {
   "cell_type": "code",
   "execution_count": 12,
   "id": "3dbb8db9",
   "metadata": {},
   "outputs": [
    {
     "name": "stdout",
     "output_type": "stream",
     "text": [
      "Matrix:\n",
      " [[ 1  2  3  4  5  6]\n",
      " [ 7  8  9 10 11 12]\n",
      " [13 14 15 16 17 18]\n",
      " [19 20 21 22 23 24]\n",
      " [25 26 27 28 29 30]]\n",
      "\n",
      "Even numbers: [ 2  4  6  8 10 12 14 16 18 20 22 24 26 28 30]\n",
      "Average of evens: 16.0\n"
     ]
    }
   ],
   "source": [
    "arr = np.arange(1, 31).reshape(5, 6)\n",
    "evens = arr[arr % 2 == 0]\n",
    "print(\"Matrix:\\n\", arr)\n",
    "print(\"\\nEven numbers:\", evens)\n",
    "print(\"Average of evens:\", evens.mean())"
   ]
  },
  {
   "cell_type": "markdown",
   "id": "e893d184",
   "metadata": {},
   "source": [
    "Q13.\n",
    "(a) Create a DataFrame of 6 students with columns: Name, Age, Marks.   \n",
    "(b) Select only students who scored above the overall average marks.  \n",
    "(c) Display names of students younger than 20 whose marks are above 60."
   ]
  },
  {
   "cell_type": "code",
   "execution_count": 13,
   "id": "34696350",
   "metadata": {},
   "outputs": [
    {
     "name": "stdout",
     "output_type": "stream",
     "text": [
      "All students:\n",
      "    Name  Age  Marks\n",
      "0   Avi   19     62\n",
      "1  Bela   21     75\n",
      "2  Chan   18     58\n",
      "3  Diti   20     83\n",
      "4  Evan   22     69\n",
      "5   Fia   19     91\n",
      "\n",
      "Overall average marks: 73.0\n",
      "\n",
      "Above average:\n",
      "    Name  Age  Marks\n",
      "1  Bela   21     75\n",
      "3  Diti   20     83\n",
      "5   Fia   19     91\n",
      "\n",
      "<20 and >60 marks — names: ['Avi', 'Fia']\n"
     ]
    }
   ],
   "source": [
    "s = pd.DataFrame({\n",
    "    'Name':  ['Avi', 'Bela', 'Chan', 'Diti', 'Evan', 'Fia'],\n",
    "    'Age':   [19, 21, 18, 20, 22, 19],\n",
    "    'Marks': [62, 75, 58, 83, 69, 91]\n",
    "})\n",
    "mean_marks = s['Marks'].mean()\n",
    "above_avg = s[s['Marks'] > mean_marks]\n",
    "young_and_good = s[(s['Age'] < 20) & (s['Marks'] > 60)]\n",
    "\n",
    "print(\"All students:\\n\", s)\n",
    "print(\"\\nOverall average marks:\", round(mean_marks, 2))\n",
    "print(\"\\nAbove average:\\n\", above_avg)\n",
    "print(\"\\n<20 and >60 marks — names:\", list(young_and_good['Name']))"
   ]
  },
  {
   "cell_type": "markdown",
   "id": "9396e212",
   "metadata": {},
   "source": [
    "Q14.\n",
    "(a) Create a DataFrame with 5 employees having columns: Name, Tasks_Completed, Hours_Worked.  \n",
    "(b) Add a new column Efficiency = Tasks_Completed / Hours_Worked.  \n",
    "(c) Identify the employee with the highest efficiency and print their name and value."
   ]
  },
  {
   "cell_type": "code",
   "execution_count": 14,
   "id": "e6a73bf7",
   "metadata": {},
   "outputs": [
    {
     "name": "stdout",
     "output_type": "stream",
     "text": [
      "   Name  Tasks_Completed  Hours_Worked  Efficiency\n",
      "0   Nia               50            25    2.000000\n",
      "1  Omar               65            35    1.857143\n",
      "2   Pia               40            20    2.000000\n",
      "3   Raj               80            50    1.600000\n",
      "4  Sara               55            27    2.037037\n",
      "\n",
      "Highest efficiency: Sara = 2.04\n"
     ]
    }
   ],
   "source": [
    "emp2 = pd.DataFrame({\n",
    "    'Name': ['Nia', 'Omar', 'Pia', 'Raj', 'Sara'],\n",
    "    'Tasks_Completed': [50, 65, 40, 80, 55],\n",
    "    'Hours_Worked': [25, 35, 20, 50, 27]\n",
    "})\n",
    "emp2['Efficiency'] = emp2['Tasks_Completed'] / emp2['Hours_Worked']\n",
    "best = emp2.loc[emp2['Efficiency'].idxmax()]\n",
    "print(emp2)\n",
    "print(\"\\nHighest efficiency:\", best['Name'], \"=\", round(best['Efficiency'], 2))"
   ]
  },
  {
   "cell_type": "markdown",
   "id": "f2b7c964",
   "metadata": {},
   "source": [
    "## Part - C : CASE STUDY"
   ]
  },
  {
   "cell_type": "markdown",
   "id": "1d39cfd1",
   "metadata": {},
   "source": []
  },
  {
   "cell_type": "markdown",
   "id": "411f57a1",
   "metadata": {},
   "source": [
    "Case Study 1 – Student Performance Analytics    \n",
    "You are given data of 100 students containing their marks in Math, Science, and English.\n",
    "   \n",
    "(a) Using Pandas, calculate the average marks for each student and identify the top 5 performers.   \n",
    "(b) Compute subject-wise average and standard deviation; comment which subject shows the highest variation.   \n",
    "(c) Draw a boxplot for each subject and comment on outliers."
   ]
  },
  {
   "cell_type": "code",
   "execution_count": 15,
   "id": "4311eb89",
   "metadata": {},
   "outputs": [
    {
     "name": "stdout",
     "output_type": "stream",
     "text": [
      "Top 5 Performers:\n",
      "    Math  Science  English    Average\n",
      "24    95       92       88  91.666667\n",
      "34    95       92       88  91.666667\n",
      "14    95       92       88  91.666667\n",
      "4     95       92       88  91.666667\n",
      "74    95       92       88  91.666667\n",
      "\n",
      "Subject-wise Statistics:\n",
      "           Math    Science    English\n",
      "mean  82.500000  84.900000  83.500000\n",
      "std    9.148053   7.446103   7.577878\n"
     ]
    },
    {
     "data": {
      "image/png": "[encoded data removed]",
      "text/plain": [
       "<Figure size 640x480 with 1 Axes>"
      ]
     },
     "metadata": {},
     "output_type": "display_data"
    }
   ],
   "source": [
    "import pandas as pd\n",
    "import matplotlib.pyplot as plt\n",
    "\n",
    "data = pd.DataFrame({\n",
    "    'Math': [80, 90, 85, 70, 95, 88, 92, 78, 65, 82] * 10,\n",
    "    'Science': [85, 88, 90, 75, 92, 80, 95, 70, 85, 89] * 10,\n",
    "    'English': [78, 85, 80, 90, 88, 92, 75, 82, 70, 95] * 10\n",
    "})\n",
    "\n",
    "data['Average'] = data[['Math', 'Science', 'English']].mean(axis=1)\n",
    "top_5 = data.sort_values(by='Average', ascending=False).head(5)\n",
    "print(\"Top 5 Performers:\")\n",
    "print(top_5[['Math', 'Science', 'English', 'Average']])\n",
    "\n",
    "subject_stats = data[['Math', 'Science', 'English']].agg(['mean', 'std'])\n",
    "print(\"\\nSubject-wise Statistics:\")\n",
    "print(subject_stats)\n",
    "\n",
    "data[['Math', 'Science', 'English']].boxplot()\n",
    "plt.title('Boxplot of Marks by Subject')\n",
    "plt.ylabel('Marks')\n",
    "plt.show()"
   ]
  },
  {
   "cell_type": "markdown",
   "id": "43a24e26",
   "metadata": {},
   "source": [
    "Case Study 2 – Sales Data Exploration   \n",
    "A company records sales transactions in a dataset with columns: Product, Quantity, Price, Region.   \n",
    "(a) Add a new column Total = Quantity × Price and compute overall revenue.    \n",
    "(b) Group data by region and identify which region contributes the most sales.   \n",
    "(c) Plot a histogram of total sales per product and discuss which products are underperforming."
   ]
  },
  {
   "cell_type": "code",
   "execution_count": 16,
   "id": "7badc8b6",
   "metadata": {},
   "outputs": [
    {
     "name": "stdout",
     "output_type": "stream",
     "text": [
      "Total Revenue: 70000\n",
      "\n",
      "Sales by Region:\n",
      "Region\n",
      "East     16500\n",
      "North    34500\n",
      "South    15000\n",
      "West      4000\n",
      "Name: Total, dtype: int64\n",
      "Region with Highest Sales: North\n"
     ]
    },
    {
     "data": {
      "image/png": "[encoded data removed]",
      "text/plain": [
       "<Figure size 640x480 with 1 Axes>"
      ]
     },
     "metadata": {},
     "output_type": "display_data"
    }
   ],
   "source": [
    "import pandas as pd\n",
    "import matplotlib.pyplot as plt\n",
    "\n",
    "data = pd.DataFrame({\n",
    "    'Product': ['A', 'B', 'C', 'A', 'B', 'C', 'A', 'B', 'C', 'A'] * 10,\n",
    "    'Quantity': [5, 3, 7, 2, 8, 4, 6, 1, 9, 3] * 10,\n",
    "    'Price': [100, 200, 150, 100, 200, 150, 100, 200, 150, 100] * 10,\n",
    "    'Region': ['North', 'South', 'East', 'West', 'North', 'South', 'East', 'West', 'North', 'South'] * 10\n",
    "})\n",
    "\n",
    "data['Total'] = data['Quantity'] * data['Price']\n",
    "total_revenue = data['Total'].sum()\n",
    "print(\"Total Revenue:\", total_revenue)\n",
    "\n",
    "region_sales = data.groupby('Region')['Total'].sum()\n",
    "print(\"\\nSales by Region:\")\n",
    "print(region_sales)\n",
    "print(\"Region with Highest Sales:\", region_sales.idxmax())\n",
    "\n",
    "data.groupby('Product')['Total'].sum().plot(kind='hist', bins=10, title='Histogram of Total Sales by Product')\n",
    "plt.xlabel('Total Sales')\n",
    "plt.ylabel('Frequency')\n",
    "plt.show()"
   ]
  },
  {
   "cell_type": "markdown",
   "id": "2c5218b1",
   "metadata": {},
   "source": [
    "Case Study 3 – Predicting Fuel Efficiency (Auto MPG Dataset)   \n",
    "You are analyzing the Auto MPG dataset (UCI Repository) with features: mpg, cylinders, displacement,   horsepower, weight, acceleration, model year, origin.  \n",
    "(a) Compute the correlation of mpg with each numeric feature and discuss which factors influence fuel   efficiency most.   \n",
    "(b) Plot a scatter plot of weight vs mpg; describe the trend you observe."
   ]
  },
  {
   "cell_type": "code",
   "execution_count": 17,
   "id": "b3915883",
   "metadata": {},
   "outputs": [
    {
     "name": "stderr",
     "output_type": "stream",
     "text": [
      "C:\\Users\\swaya\\AppData\\Local\\Temp\\ipykernel_164\\3808992085.py:4: FutureWarning: The 'delim_whitespace' keyword in pd.read_csv is deprecated and will be removed in a future version. Use ``sep='\\s+'`` instead\n",
      "  data = pd.read_csv('https://archive.ics.uci.edu/ml/machine-learning-databases/auto-mpg/auto-mpg.data',\n"
     ]
    },
    {
     "name": "stdout",
     "output_type": "stream",
     "text": [
      "Correlation of MPG with Numeric Features:\n",
      "weight         -0.832244\n",
      "displacement   -0.805127\n",
      "horsepower     -0.778427\n",
      "cylinders      -0.777618\n",
      "acceleration    0.423329\n",
      "model year      0.580541\n",
      "mpg             1.000000\n",
      "Name: mpg, dtype: float64\n"
     ]
    },
    {
     "data": {
      "image/png": "[encoded data removed]",
      "text/plain": [
       "<Figure size 640x480 with 1 Axes>"
      ]
     },
     "metadata": {},
     "output_type": "display_data"
    }
   ],
   "source": [
    "import pandas as pd\n",
    "import matplotlib.pyplot as plt\n",
    "\n",
    "data = pd.read_csv('https://archive.ics.uci.edu/ml/machine-learning-databases/auto-mpg/auto-mpg.data', \n",
    "                   delim_whitespace=True, \n",
    "                   names=['mpg', 'cylinders', 'displacement', 'horsepower', 'weight', 'acceleration', 'model year', 'origin', 'car name'])\n",
    "\n",
    "data = data[data['horsepower'] != '?']\n",
    "data['horsepower'] = data['horsepower'].astype(float)\n",
    "\n",
    "numeric_cols = ['mpg', 'cylinders', 'displacement', 'horsepower', 'weight', 'acceleration', 'model year']\n",
    "correlations = data[numeric_cols].corr()['mpg'].sort_values()\n",
    "print(\"Correlation of MPG with Numeric Features:\")\n",
    "print(correlations)\n",
    "\n",
    "plt.scatter(data['weight'], data['mpg'])\n",
    "plt.title('Weight vs MPG')\n",
    "plt.xlabel('Weight')\n",
    "plt.ylabel('MPG')\n",
    "plt.show()"
   ]
  },
  {
   "cell_type": "markdown",
   "id": "7a26aec7",
   "metadata": {},
   "source": []
  }
 ],
 "metadata": {
  "kernelspec": {
   "display_name": "Python 3",
   "language": "python",
   "name": "python3"
  },
  "language_info": {
   "codemirror_mode": {
    "name": "ipython",
    "version": 3
   },
   "file_extension": ".py",
   "mimetype": "text/x-python",
   "name": "python",
   "nbconvert_exporter": "python",
   "pygments_lexer": "ipython3",
   "version": "3.13.2"
  }
 },
 "nbformat": 4,
 "nbformat_minor": 5
}
